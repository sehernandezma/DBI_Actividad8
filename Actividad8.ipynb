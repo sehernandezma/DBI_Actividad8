{
 "cells": [
  {
   "cell_type": "markdown",
   "id": "aab76adc",
   "metadata": {},
   "source": [
    "# Actividad 08: optimización y redes neuronales\n",
    "\n",
    "### Sebastián Hernández Mantilla"
   ]
  },
  {
   "cell_type": "markdown",
   "id": "c67a7963",
   "metadata": {},
   "source": [
    "## Optimización y redes neuronales"
   ]
  },
  {
   "cell_type": "markdown",
   "id": "cc248ef5",
   "metadata": {},
   "source": [
    "Se desarrolla el tutorial de reconocimiento de dígitos con el conjunto de datos MNIST de la Guia inicial de TensorFlow 2.0"
   ]
  },
  {
   "cell_type": "code",
   "execution_count": 187,
   "id": "12da16e8",
   "metadata": {},
   "outputs": [
    {
     "name": "stdout",
     "output_type": "stream",
     "text": [
      "Epoch 1/5\n",
      "1875/1875 [==============================] - 2s 869us/step - loss: 0.2970 - accuracy: 0.9136\n",
      "Epoch 2/5\n",
      "1875/1875 [==============================] - 2s 993us/step - loss: 0.1465 - accuracy: 0.9562\n",
      "Epoch 3/5\n",
      "1875/1875 [==============================] - 2s 805us/step - loss: 0.1105 - accuracy: 0.9667\n",
      "Epoch 4/5\n",
      "1875/1875 [==============================] - 2s 851us/step - loss: 0.0915 - accuracy: 0.9713\n",
      "Epoch 5/5\n",
      "1875/1875 [==============================] - 2s 993us/step - loss: 0.0762 - accuracy: 0.9768\n",
      "313/313 - 0s - loss: 0.0791 - accuracy: 0.9742\n"
     ]
    },
    {
     "data": {
      "text/plain": [
       "[0.07908767461776733, 0.9742000102996826]"
      ]
     },
     "execution_count": 187,
     "metadata": {},
     "output_type": "execute_result"
    }
   ],
   "source": [
    "import matplotlib.pyplot as plt\n",
    "import tensorflow as tf\n",
    "import numpy as np\n",
    "import pandas as pd\n",
    "\n",
    "mnist = tf.keras.datasets.mnist\n",
    "\n",
    "(x_train, y_train), (x_test, y_test) = mnist.load_data()\n",
    "x_train, x_test = x_train / 255.0, x_test / 255.0\n",
    "\n",
    "model = tf.keras.models.Sequential([\n",
    "  tf.keras.layers.Flatten(input_shape=(28, 28)),\n",
    "  tf.keras.layers.Dense(128, activation='relu'),\n",
    "  tf.keras.layers.Dropout(0.2),\n",
    "  tf.keras.layers.Dense(10, activation='softmax')\n",
    "])\n",
    "\n",
    "model.compile(optimizer='adam',\n",
    "              loss='sparse_categorical_crossentropy',\n",
    "              metrics=['accuracy'])\n",
    "\n",
    "model.fit(x_train, y_train, epochs=5)\n",
    "model.evaluate(x_test,  y_test, verbose=2)"
   ]
  },
  {
   "cell_type": "markdown",
   "id": "0b2ad2eb",
   "metadata": {},
   "source": [
    "#### Función de pérdida\n",
    "\n",
    "La función de pérdida utilizada en el tutorial es Categorical crossentropy:"
   ]
  },
  {
   "cell_type": "markdown",
   "id": "b59228ae",
   "metadata": {},
   "source": [
    "![](imagenes/Captura.PNG)"
   ]
  },
  {
   "cell_type": "markdown",
   "id": "b2793537",
   "metadata": {},
   "source": [
    "Donde:\n",
    "\n",
    "- N es el número de observaciones\n",
    "- C es el número de categorias \n",
    "- Pmodel[yi ∈ C] es la probabilidad predecida por el modelo para que la observación i pertenezca a la categoría c\n"
   ]
  },
  {
   "cell_type": "markdown",
   "id": "640cab5f",
   "metadata": {},
   "source": [
    "## Metodo de optimización\n",
    " Se analisa el desempeño de la red con diferentes optimizadores y variando la tasa de aprendizaje"
   ]
  },
  {
   "cell_type": "markdown",
   "id": "938ec80c",
   "metadata": {},
   "source": [
    "![](imagenes/comparison.png)"
   ]
  },
  {
   "cell_type": "markdown",
   "id": "79784861",
   "metadata": {},
   "source": [
    "Se encontró que 200 épocas son suficientes para hacer una comparación entre los tipos de optimizadores"
   ]
  },
  {
   "cell_type": "markdown",
   "id": "4b01307c",
   "metadata": {},
   "source": [
    "#### SGD - 0.001\n"
   ]
  },
  {
   "cell_type": "code",
   "execution_count": null,
   "id": "f0ac1974",
   "metadata": {},
   "outputs": [],
   "source": [
    "optimizer= tf.keras.optimizers.SGD(learning_rate=0.001)\n",
    "model.compile(optimizer=optimizer,\n",
    "              loss='sparse_categorical_crossentropy',\n",
    "              metrics=['accuracy'])\n",
    "\n",
    "history = model.fit(x_train, y_train, epochs=200)\n",
    "model.evaluate(x_test,  y_test, verbose=2)"
   ]
  },
  {
   "cell_type": "markdown",
   "id": "23ea550d",
   "metadata": {},
   "source": [
    "![](imagenes/Captura1.png)"
   ]
  },
  {
   "cell_type": "code",
   "execution_count": null,
   "id": "3b93f7da",
   "metadata": {},
   "outputs": [],
   "source": [
    "fig, (ax1, ax2) = plt.subplots(1, 2, figsize=(10, 3))\n",
    "\n",
    "#ax1.subplot(1, 2, 1)\n",
    "ax1.plot(history.history['accuracy'])\n",
    "#plt.plot(history.history['val_accuracy'])\n",
    "ax1.set_title('model accuracy')\n",
    "ax1.set_ylabel('accuracy')\n",
    "ax1.set_xlabel('epoch')\n",
    "#ax1.show()\n",
    "\n",
    "#ax2.subplot(1, 2, 2)\n",
    "ax2.plot(history.history['loss'])\n",
    "#plt.plot(history.history['val_loss'])\n",
    "ax2.set_title('model loss')\n",
    "ax2.set_ylabel('loss')\n",
    "ax2.set_xlabel('epoch')"
   ]
  },
  {
   "cell_type": "markdown",
   "id": "55480e67",
   "metadata": {},
   "source": [
    "![](imagenes/sgd0,001.png)"
   ]
  },
  {
   "cell_type": "markdown",
   "id": "c911ed94",
   "metadata": {},
   "source": [
    "#### SGD - 0.1"
   ]
  },
  {
   "cell_type": "code",
   "execution_count": null,
   "id": "1e5b34df",
   "metadata": {},
   "outputs": [],
   "source": [
    "optimizer= tf.keras.optimizers.SGD(learning_rate=0.1)\n",
    "model.compile(optimizer=optimizer,\n",
    "              loss='sparse_categorical_crossentropy',\n",
    "              metrics=['accuracy'])\n",
    "\n",
    "history = model.fit(x_train, y_train, epochs=200)\n",
    "model.evaluate(x_test,  y_test, verbose=2)"
   ]
  },
  {
   "cell_type": "markdown",
   "id": "2348f9ac",
   "metadata": {},
   "source": [
    "![](imagenes/Captura2.png)"
   ]
  },
  {
   "cell_type": "code",
   "execution_count": null,
   "id": "f75151c9",
   "metadata": {},
   "outputs": [],
   "source": [
    "fig, (ax1, ax2) = plt.subplots(1, 2, figsize=(10, 3))\n",
    "\n",
    "#ax1.subplot(1, 2, 1)\n",
    "ax1.plot(history.history['accuracy'])\n",
    "#plt.plot(history.history['val_accuracy'])\n",
    "ax1.set_title('model accuracy')\n",
    "ax1.set_ylabel('accuracy')\n",
    "ax1.set_xlabel('epoch')\n",
    "#ax1.show()\n",
    "\n",
    "#ax2.subplot(1, 2, 2)\n",
    "ax2.plot(history.history['loss'])\n",
    "#plt.plot(history.history['val_loss'])\n",
    "ax2.set_title('model loss')\n",
    "ax2.set_ylabel('loss')\n",
    "ax2.set_xlabel('epoch')"
   ]
  },
  {
   "cell_type": "markdown",
   "id": "20538b10",
   "metadata": {},
   "source": [
    "![](imagenes/sgd0,1.png)"
   ]
  },
  {
   "cell_type": "markdown",
   "id": "2ca5d1e6",
   "metadata": {},
   "source": [
    "#### SGD - 0.5"
   ]
  },
  {
   "cell_type": "code",
   "execution_count": null,
   "id": "ebfea692",
   "metadata": {},
   "outputs": [],
   "source": [
    "optimizer= tf.keras.optimizers.SGD(learning_rate=0.5)\n",
    "model.compile(optimizer=optimizer,\n",
    "              loss='sparse_categorical_crossentropy',\n",
    "              metrics=['accuracy'])\n",
    "\n",
    "history = model.fit(x_train, y_train, epochs=200)\n",
    "model.evaluate(x_test,  y_test, verbose=2)"
   ]
  },
  {
   "cell_type": "markdown",
   "id": "bd5468d2",
   "metadata": {},
   "source": [
    "![](imagenes/Captura3.png)"
   ]
  },
  {
   "cell_type": "code",
   "execution_count": null,
   "id": "60fe6934",
   "metadata": {},
   "outputs": [],
   "source": [
    "fig, (ax1, ax2) = plt.subplots(1, 2, figsize=(10, 3))\n",
    "\n",
    "#ax1.subplot(1, 2, 1)\n",
    "ax1.plot(history.history['accuracy'])\n",
    "#plt.plot(history.history['val_accuracy'])\n",
    "ax1.set_title('model accuracy')\n",
    "ax1.set_ylabel('accuracy')\n",
    "ax1.set_xlabel('epoch')\n",
    "#ax1.show()\n",
    "\n",
    "#ax2.subplot(1, 2, 2)\n",
    "ax2.plot(history.history['loss'])\n",
    "#plt.plot(history.history['val_loss'])\n",
    "ax2.set_title('model loss')\n",
    "ax2.set_ylabel('loss')\n",
    "ax2.set_xlabel('epoch')"
   ]
  },
  {
   "cell_type": "markdown",
   "id": "3d031641",
   "metadata": {},
   "source": [
    "![](imagenes/sgd0,5.png)"
   ]
  },
  {
   "cell_type": "markdown",
   "id": "bb8ff215",
   "metadata": {},
   "source": [
    "#### SGD - 0.9"
   ]
  },
  {
   "cell_type": "code",
   "execution_count": null,
   "id": "b5ad05f8",
   "metadata": {},
   "outputs": [],
   "source": [
    "optimizer= tf.keras.optimizers.SGD(learning_rate=0.9)\n",
    "model.compile(optimizer=optimizer,\n",
    "              loss='sparse_categorical_crossentropy',\n",
    "              metrics=['accuracy'])\n",
    "\n",
    "history = model.fit(x_train, y_train, epochs=200)\n",
    "model.evaluate(x_test,  y_test, verbose=2)"
   ]
  },
  {
   "cell_type": "markdown",
   "id": "0eedd0e2",
   "metadata": {},
   "source": [
    "![](imagenes/Captura4.png)"
   ]
  },
  {
   "cell_type": "code",
   "execution_count": null,
   "id": "ee805eb5",
   "metadata": {},
   "outputs": [],
   "source": [
    "fig, (ax1, ax2) = plt.subplots(1, 2, figsize=(10, 3))\n",
    "\n",
    "#ax1.subplot(1, 2, 1)\n",
    "ax1.plot(history.history['accuracy'])\n",
    "#plt.plot(history.history['val_accuracy'])\n",
    "ax1.set_title('model accuracy')\n",
    "ax1.set_ylabel('accuracy')\n",
    "ax1.set_xlabel('epoch')\n",
    "#ax1.show()\n",
    "\n",
    "#ax2.subplot(1, 2, 2)\n",
    "ax2.plot(history.history['loss'])\n",
    "#plt.plot(history.history['val_loss'])\n",
    "ax2.set_title('model loss')\n",
    "ax2.set_ylabel('loss')\n",
    "ax2.set_xlabel('epoch')"
   ]
  },
  {
   "cell_type": "markdown",
   "id": "3a90e8c0",
   "metadata": {},
   "source": [
    "![](imagenes/sgd0,9.png)"
   ]
  },
  {
   "cell_type": "markdown",
   "id": "38ed5924",
   "metadata": {},
   "source": [
    "#### SGD - 1.5"
   ]
  },
  {
   "cell_type": "code",
   "execution_count": null,
   "id": "fccaefc5",
   "metadata": {},
   "outputs": [],
   "source": [
    "optimizer= tf.keras.optimizers.SGD(learning_rate=1.5)\n",
    "model.compile(optimizer=optimizer,\n",
    "              loss='sparse_categorical_crossentropy',\n",
    "              metrics=['accuracy'])\n",
    "\n",
    "history = model.fit(x_train, y_train, epochs=200)\n",
    "model.evaluate(x_test,  y_test, verbose=2)"
   ]
  },
  {
   "cell_type": "markdown",
   "id": "e3b63cd0",
   "metadata": {},
   "source": [
    "![](imagenes/Captura5.png)"
   ]
  },
  {
   "cell_type": "code",
   "execution_count": null,
   "id": "fbc994ce",
   "metadata": {},
   "outputs": [],
   "source": [
    "fig, (ax1, ax2) = plt.subplots(1, 2, figsize=(10, 3))\n",
    "\n",
    "#ax1.subplot(1, 2, 1)\n",
    "ax1.plot(history.history['accuracy'])\n",
    "#plt.plot(history.history['val_accuracy'])\n",
    "ax1.set_title('model accuracy')\n",
    "ax1.set_ylabel('accuracy')\n",
    "ax1.set_xlabel('epoch')\n",
    "#ax1.show()\n",
    "\n",
    "#ax2.subplot(1, 2, 2)\n",
    "ax2.plot(history.history['loss'])\n",
    "#plt.plot(history.history['val_loss'])\n",
    "ax2.set_title('model loss')\n",
    "ax2.set_ylabel('loss')\n",
    "ax2.set_xlabel('epoch')"
   ]
  },
  {
   "cell_type": "markdown",
   "id": "27d6454a",
   "metadata": {},
   "source": [
    "![](imagenes/sgd1,5.png)"
   ]
  },
  {
   "cell_type": "markdown",
   "id": "ac31c539",
   "metadata": {},
   "source": [
    "#### RSMprop - 0.001"
   ]
  },
  {
   "cell_type": "code",
   "execution_count": null,
   "id": "0a4e5d27",
   "metadata": {},
   "outputs": [],
   "source": [
    "optimizer= tf.keras.optimizers.RMSprop(learning_rate=0.001)\n",
    "model.compile(optimizer=optimizer,\n",
    "              loss='sparse_categorical_crossentropy',\n",
    "              metrics=['accuracy'])\n",
    "\n",
    "history = model.fit(x_train, y_train, epochs=200)\n",
    "model.evaluate(x_test,  y_test, verbose=2)"
   ]
  },
  {
   "cell_type": "markdown",
   "id": "7cf81727",
   "metadata": {},
   "source": [
    "![](imagenes/Captura6.png)"
   ]
  },
  {
   "cell_type": "code",
   "execution_count": null,
   "id": "82d37f11",
   "metadata": {},
   "outputs": [],
   "source": [
    "fig, (ax1, ax2) = plt.subplots(1, 2, figsize=(10, 3))\n",
    "\n",
    "#ax1.subplot(1, 2, 1)\n",
    "ax1.plot(history.history['accuracy'])\n",
    "#plt.plot(history.history['val_accuracy'])\n",
    "ax1.set_title('model accuracy')\n",
    "ax1.set_ylabel('accuracy')\n",
    "ax1.set_xlabel('epoch')\n",
    "#ax1.show()\n",
    "\n",
    "#ax2.subplot(1, 2, 2)\n",
    "ax2.plot(history.history['loss'])\n",
    "#plt.plot(history.history['val_loss'])\n",
    "ax2.set_title('model loss')\n",
    "ax2.set_ylabel('loss')\n",
    "ax2.set_xlabel('epoch')"
   ]
  },
  {
   "cell_type": "markdown",
   "id": "f902469f",
   "metadata": {},
   "source": [
    "![](imagenes/rsm0,001.png)"
   ]
  },
  {
   "cell_type": "markdown",
   "id": "f1f94641",
   "metadata": {},
   "source": [
    "#### RSMprop - 0.1"
   ]
  },
  {
   "cell_type": "code",
   "execution_count": null,
   "id": "3cb7fef1",
   "metadata": {},
   "outputs": [],
   "source": [
    "optimizer= tf.keras.optimizers.RMSprop(learning_rate=0.1)\n",
    "model.compile(optimizer=optimizer,\n",
    "              loss='sparse_categorical_crossentropy',\n",
    "              metrics=['accuracy'])\n",
    "\n",
    "history = model.fit(x_train, y_train, epochs=200)\n",
    "model.evaluate(x_test,  y_test, verbose=2)"
   ]
  },
  {
   "cell_type": "markdown",
   "id": "62cebfa9",
   "metadata": {},
   "source": [
    "![](imagenes/Captura7.png)"
   ]
  },
  {
   "cell_type": "code",
   "execution_count": null,
   "id": "22143d5a",
   "metadata": {},
   "outputs": [],
   "source": [
    "fig, (ax1, ax2) = plt.subplots(1, 2, figsize=(10, 3))\n",
    "\n",
    "#ax1.subplot(1, 2, 1)\n",
    "ax1.plot(history.history['accuracy'])\n",
    "#plt.plot(history.history['val_accuracy'])\n",
    "ax1.set_title('model accuracy')\n",
    "ax1.set_ylabel('accuracy')\n",
    "ax1.set_xlabel('epoch')\n",
    "#ax1.show()\n",
    "\n",
    "#ax2.subplot(1, 2, 2)\n",
    "ax2.plot(history.history['loss'])\n",
    "#plt.plot(history.history['val_loss'])\n",
    "ax2.set_title('model loss')\n",
    "ax2.set_ylabel('loss')\n",
    "ax2.set_xlabel('epoch')"
   ]
  },
  {
   "cell_type": "markdown",
   "id": "88f95407",
   "metadata": {},
   "source": [
    "![](imagenes/rsm0,1.png)"
   ]
  },
  {
   "cell_type": "markdown",
   "id": "82d9c15d",
   "metadata": {},
   "source": [
    "#### RSMprop - 0.5"
   ]
  },
  {
   "cell_type": "code",
   "execution_count": null,
   "id": "0e2bf9bf",
   "metadata": {},
   "outputs": [],
   "source": [
    "optimizer= tf.keras.optimizers.RMSprop(learning_rate=0.5)\n",
    "model.compile(optimizer=optimizer,\n",
    "              loss='sparse_categorical_crossentropy',\n",
    "              metrics=['accuracy'])\n",
    "\n",
    "history = model.fit(x_train, y_train, epochs=200)\n",
    "model.evaluate(x_test,  y_test, verbose=2)"
   ]
  },
  {
   "cell_type": "markdown",
   "id": "ab2db20e",
   "metadata": {},
   "source": [
    "![](imagenes/Captura8.png)"
   ]
  },
  {
   "cell_type": "code",
   "execution_count": null,
   "id": "d588f64a",
   "metadata": {},
   "outputs": [],
   "source": [
    "fig, (ax1, ax2) = plt.subplots(1, 2, figsize=(10, 3))\n",
    "\n",
    "#ax1.subplot(1, 2, 1)\n",
    "ax1.plot(history.history['accuracy'])\n",
    "#plt.plot(history.history['val_accuracy'])\n",
    "ax1.set_title('model accuracy')\n",
    "ax1.set_ylabel('accuracy')\n",
    "ax1.set_xlabel('epoch')\n",
    "#ax1.show()\n",
    "\n",
    "#ax2.subplot(1, 2, 2)\n",
    "ax2.plot(history.history['loss'])\n",
    "#plt.plot(history.history['val_loss'])\n",
    "ax2.set_title('model loss')\n",
    "ax2.set_ylabel('loss')\n",
    "ax2.set_xlabel('epoch')"
   ]
  },
  {
   "cell_type": "markdown",
   "id": "9e23910e",
   "metadata": {},
   "source": [
    "![](imagenes/rsm0,5.png)"
   ]
  },
  {
   "cell_type": "markdown",
   "id": "aeccf2f6",
   "metadata": {},
   "source": [
    "#### RSMprop - 0.9\n"
   ]
  },
  {
   "cell_type": "code",
   "execution_count": 306,
   "id": "160b12f3",
   "metadata": {
    "scrolled": true
   },
   "outputs": [
    {
     "name": "stdout",
     "output_type": "stream",
     "text": [
      "Epoch 1/200\n",
      "1875/1875 [==============================] - 2s 1ms/step - loss: 1.3797 - accuracy: 0.7897\n",
      "Epoch 2/200\n",
      "1875/1875 [==============================] - 2s 1ms/step - loss: 1.4620 - accuracy: 0.7704\n",
      "Epoch 3/200\n",
      "1875/1875 [==============================] - 2s 1ms/step - loss: 1.9441 - accuracy: 0.7691\n",
      "Epoch 4/200\n",
      "1875/1875 [==============================] - 2s 1ms/step - loss: 1.9845 - accuracy: 0.7473\n",
      "Epoch 5/200\n",
      "1875/1875 [==============================] - 3s 1ms/step - loss: 2.0554 - accuracy: 0.7536\n",
      "Epoch 6/200\n",
      "1875/1875 [==============================] - 2s 1ms/step - loss: 1.9489 - accuracy: 0.7321\n",
      "Epoch 7/200\n",
      "1875/1875 [==============================] - 2s 1ms/step - loss: 1.3544 - accuracy: 0.7269\n",
      "Epoch 8/200\n",
      "1875/1875 [==============================] - 2s 1ms/step - loss: 2.2296 - accuracy: 0.7175\n",
      "Epoch 9/200\n",
      "1875/1875 [==============================] - 2s 1ms/step - loss: 1.9907 - accuracy: 0.7244\n",
      "Epoch 10/200\n",
      "1875/1875 [==============================] - 2s 1ms/step - loss: 2.2879 - accuracy: 0.7261\n",
      "Epoch 11/200\n",
      "1875/1875 [==============================] - 2s 1ms/step - loss: 2.0791 - accuracy: 0.7197\n",
      "Epoch 12/200\n",
      "1875/1875 [==============================] - 2s 1ms/step - loss: 2.1849 - accuracy: 0.7171\n",
      "Epoch 13/200\n",
      "1875/1875 [==============================] - 2s 1ms/step - loss: 1.5610 - accuracy: 0.7154\n",
      "Epoch 14/200\n",
      "1875/1875 [==============================] - 3s 1ms/step - loss: 1.8966 - accuracy: 0.7177\n",
      "Epoch 15/200\n",
      "1875/1875 [==============================] - 2s 1ms/step - loss: 2.0215 - accuracy: 0.7153\n",
      "Epoch 16/200\n",
      "1875/1875 [==============================] - 2s 1ms/step - loss: 2.2150 - accuracy: 0.7082\n",
      "Epoch 17/200\n",
      "1875/1875 [==============================] - 2s 1ms/step - loss: 1.5897 - accuracy: 0.6958\n",
      "Epoch 18/200\n",
      "1875/1875 [==============================] - 2s 1ms/step - loss: 1.7334 - accuracy: 0.7067\n",
      "Epoch 19/200\n",
      "1875/1875 [==============================] - 2s 1ms/step - loss: 1.3261 - accuracy: 0.7070\n",
      "Epoch 20/200\n",
      "1875/1875 [==============================] - 2s 1ms/step - loss: 1.5175 - accuracy: 0.7143\n",
      "Epoch 21/200\n",
      "1875/1875 [==============================] - 2s 1ms/step - loss: 1.8672 - accuracy: 0.7253\n",
      "Epoch 22/200\n",
      "1875/1875 [==============================] - 2s 1ms/step - loss: 2.0225 - accuracy: 0.7265\n",
      "Epoch 23/200\n",
      "1875/1875 [==============================] - 3s 1ms/step - loss: 1.7347 - accuracy: 0.7194\n",
      "Epoch 24/200\n",
      "1875/1875 [==============================] - 3s 1ms/step - loss: 1.7096 - accuracy: 0.7104\n",
      "Epoch 25/200\n",
      "1875/1875 [==============================] - 2s 1ms/step - loss: 1.6758 - accuracy: 0.7006\n",
      "Epoch 26/200\n",
      "1875/1875 [==============================] - 2s 1ms/step - loss: 1.7159 - accuracy: 0.7036\n",
      "Epoch 27/200\n",
      "1875/1875 [==============================] - 2s 1ms/step - loss: 1.6806 - accuracy: 0.7189\n",
      "Epoch 28/200\n",
      "1875/1875 [==============================] - 3s 1ms/step - loss: 1.8530 - accuracy: 0.7159\n",
      "Epoch 29/200\n",
      "1875/1875 [==============================] - 2s 1ms/step - loss: 1.7362 - accuracy: 0.7094\n",
      "Epoch 30/200\n",
      "1875/1875 [==============================] - 2s 1ms/step - loss: 2.0376 - accuracy: 0.6993\n",
      "Epoch 31/200\n",
      "1875/1875 [==============================] - 2s 1ms/step - loss: 2.0559 - accuracy: 0.7138\n",
      "Epoch 32/200\n",
      "1875/1875 [==============================] - 2s 1ms/step - loss: 1.9267 - accuracy: 0.7145\n",
      "Epoch 33/200\n",
      "1875/1875 [==============================] - 2s 1ms/step - loss: 1.9214 - accuracy: 0.7125\n",
      "Epoch 34/200\n",
      "1875/1875 [==============================] - 2s 1ms/step - loss: 1.9345 - accuracy: 0.7181\n",
      "Epoch 35/200\n",
      "1875/1875 [==============================] - 2s 1ms/step - loss: 1.6629 - accuracy: 0.7218\n",
      "Epoch 36/200\n",
      "1875/1875 [==============================] - 2s 1ms/step - loss: 1.6178 - accuracy: 0.7142\n",
      "Epoch 37/200\n",
      "1875/1875 [==============================] - 2s 1ms/step - loss: 1.6115 - accuracy: 0.7131\n",
      "Epoch 38/200\n",
      "1875/1875 [==============================] - 2s 1ms/step - loss: 1.7772 - accuracy: 0.7186\n",
      "Epoch 39/200\n",
      "1875/1875 [==============================] - 2s 1ms/step - loss: 2.1335 - accuracy: 0.7210\n",
      "Epoch 40/200\n",
      "1875/1875 [==============================] - 2s 1ms/step - loss: 1.6833 - accuracy: 0.7247\n",
      "Epoch 41/200\n",
      "1875/1875 [==============================] - 2s 1ms/step - loss: 1.5027 - accuracy: 0.7205\n",
      "Epoch 42/200\n",
      "1875/1875 [==============================] - 2s 1ms/step - loss: 1.8214 - accuracy: 0.7262\n",
      "Epoch 43/200\n",
      "1875/1875 [==============================] - 2s 1ms/step - loss: 1.8856 - accuracy: 0.7281\n",
      "Epoch 44/200\n",
      "1875/1875 [==============================] - 2s 1ms/step - loss: 1.6700 - accuracy: 0.7275\n",
      "Epoch 45/200\n",
      "1875/1875 [==============================] - 2s 1ms/step - loss: 1.2634 - accuracy: 0.7280\n",
      "Epoch 46/200\n",
      "1875/1875 [==============================] - 3s 1ms/step - loss: 1.6489 - accuracy: 0.7334\n",
      "Epoch 47/200\n",
      "1875/1875 [==============================] - 2s 1ms/step - loss: 1.5987 - accuracy: 0.7374\n",
      "Epoch 48/200\n",
      "1875/1875 [==============================] - 2s 1ms/step - loss: 1.6874 - accuracy: 0.7334\n",
      "Epoch 49/200\n",
      "1875/1875 [==============================] - 2s 1ms/step - loss: 1.5700 - accuracy: 0.7369\n",
      "Epoch 50/200\n",
      "1875/1875 [==============================] - 2s 1ms/step - loss: 1.8751 - accuracy: 0.7375\n",
      "Epoch 51/200\n",
      "1875/1875 [==============================] - 2s 1ms/step - loss: 1.4655 - accuracy: 0.7302\n",
      "Epoch 52/200\n",
      "1875/1875 [==============================] - 2s 1ms/step - loss: 1.7420 - accuracy: 0.7361\n",
      "Epoch 53/200\n",
      "1875/1875 [==============================] - 2s 1ms/step - loss: 1.5751 - accuracy: 0.7347\n",
      "Epoch 54/200\n",
      "1875/1875 [==============================] - 2s 1ms/step - loss: 1.9819 - accuracy: 0.7289\n",
      "Epoch 55/200\n",
      "1875/1875 [==============================] - 3s 1ms/step - loss: 1.9025 - accuracy: 0.7173\n",
      "Epoch 56/200\n",
      "1875/1875 [==============================] - 2s 1ms/step - loss: 1.5549 - accuracy: 0.7324\n",
      "Epoch 57/200\n",
      "1875/1875 [==============================] - 2s 1ms/step - loss: 1.3834 - accuracy: 0.7358\n",
      "Epoch 58/200\n",
      "1875/1875 [==============================] - 2s 1ms/step - loss: 1.3977 - accuracy: 0.7382\n",
      "Epoch 59/200\n",
      "1875/1875 [==============================] - 2s 1ms/step - loss: 1.6205 - accuracy: 0.7388\n",
      "Epoch 60/200\n",
      "1875/1875 [==============================] - 2s 1ms/step - loss: 1.4552 - accuracy: 0.7369\n",
      "Epoch 61/200\n",
      "1875/1875 [==============================] - 2s 1ms/step - loss: 1.8435 - accuracy: 0.7381\n",
      "Epoch 62/200\n",
      "1875/1875 [==============================] - 2s 1ms/step - loss: 1.8537 - accuracy: 0.7361\n",
      "Epoch 63/200\n",
      "1875/1875 [==============================] - 2s 1ms/step - loss: 1.4171 - accuracy: 0.7304\n",
      "Epoch 64/200\n",
      "1875/1875 [==============================] - 2s 1ms/step - loss: 1.6380 - accuracy: 0.7252\n",
      "Epoch 65/200\n",
      "1875/1875 [==============================] - 2s 1ms/step - loss: 1.5724 - accuracy: 0.7280\n",
      "Epoch 66/200\n",
      "1875/1875 [==============================] - 2s 1ms/step - loss: 1.9487 - accuracy: 0.7225\n",
      "Epoch 67/200\n",
      "1875/1875 [==============================] - 2s 1ms/step - loss: 2.1925 - accuracy: 0.7293\n",
      "Epoch 68/200\n",
      "1875/1875 [==============================] - 2s 1ms/step - loss: 2.0898 - accuracy: 0.7266\n",
      "Epoch 69/200\n",
      "1875/1875 [==============================] - 2s 1ms/step - loss: 1.9402 - accuracy: 0.7289\n",
      "Epoch 70/200\n",
      "1875/1875 [==============================] - 2s 1ms/step - loss: 2.4458 - accuracy: 0.7265\n",
      "Epoch 71/200\n",
      "1875/1875 [==============================] - 2s 1ms/step - loss: 1.3018 - accuracy: 0.7200\n",
      "Epoch 72/200\n",
      "1875/1875 [==============================] - 2s 1ms/step - loss: 1.7125 - accuracy: 0.7336\n",
      "Epoch 73/200\n",
      "1875/1875 [==============================] - 2s 1ms/step - loss: 1.3892 - accuracy: 0.7249\n",
      "Epoch 74/200\n",
      "1875/1875 [==============================] - 2s 1ms/step - loss: 1.2866 - accuracy: 0.7281\n",
      "Epoch 75/200\n",
      "1875/1875 [==============================] - 2s 1ms/step - loss: 1.5933 - accuracy: 0.7371\n",
      "Epoch 76/200\n",
      "1875/1875 [==============================] - 2s 1ms/step - loss: 1.7798 - accuracy: 0.7397\n",
      "Epoch 77/200\n",
      "1875/1875 [==============================] - 2s 1ms/step - loss: 1.4742 - accuracy: 0.7306\n",
      "Epoch 78/200\n",
      "1875/1875 [==============================] - 2s 1ms/step - loss: 1.4132 - accuracy: 0.7317\n",
      "Epoch 79/200\n",
      "1875/1875 [==============================] - 3s 1ms/step - loss: 1.3912 - accuracy: 0.7273\n",
      "Epoch 80/200\n",
      "1875/1875 [==============================] - 2s 1ms/step - loss: 1.6382 - accuracy: 0.7227\n",
      "Epoch 81/200\n",
      "1875/1875 [==============================] - 2s 1ms/step - loss: 1.4104 - accuracy: 0.7229\n",
      "Epoch 82/200\n",
      "1875/1875 [==============================] - 2s 1ms/step - loss: 1.7381 - accuracy: 0.7228\n",
      "Epoch 83/200\n",
      "1875/1875 [==============================] - 3s 1ms/step - loss: 1.6877 - accuracy: 0.7318\n",
      "Epoch 84/200\n",
      "1875/1875 [==============================] - 2s 1ms/step - loss: 1.2728 - accuracy: 0.7245\n",
      "Epoch 85/200\n",
      "1875/1875 [==============================] - 2s 1ms/step - loss: 1.6330 - accuracy: 0.7292\n",
      "Epoch 86/200\n",
      "1875/1875 [==============================] - 2s 1ms/step - loss: 1.7778 - accuracy: 0.7305\n",
      "Epoch 87/200\n",
      "1875/1875 [==============================] - 2s 1ms/step - loss: 1.5275 - accuracy: 0.7273\n",
      "Epoch 88/200\n",
      "1875/1875 [==============================] - 3s 1ms/step - loss: 1.5448 - accuracy: 0.7222\n",
      "Epoch 89/200\n",
      "1875/1875 [==============================] - 2s 1ms/step - loss: 1.3837 - accuracy: 0.7138\n",
      "Epoch 90/200\n",
      "1875/1875 [==============================] - 2s 1ms/step - loss: 1.1716 - accuracy: 0.7213\n",
      "Epoch 91/200\n",
      "1875/1875 [==============================] - 2s 1ms/step - loss: 1.2599 - accuracy: 0.7256\n",
      "Epoch 92/200\n",
      "1875/1875 [==============================] - 2s 1ms/step - loss: 1.8016 - accuracy: 0.7392\n",
      "Epoch 93/200\n",
      "1875/1875 [==============================] - 2s 1ms/step - loss: 1.4725 - accuracy: 0.7421\n",
      "Epoch 94/200\n",
      "1875/1875 [==============================] - 2s 1ms/step - loss: 1.8027 - accuracy: 0.7368\n",
      "Epoch 95/200\n",
      "1875/1875 [==============================] - 2s 1ms/step - loss: 1.3183 - accuracy: 0.7257\n",
      "Epoch 96/200\n",
      "1875/1875 [==============================] - 2s 1ms/step - loss: 1.6648 - accuracy: 0.7342\n",
      "Epoch 97/200\n",
      "1875/1875 [==============================] - 3s 1ms/step - loss: 1.3735 - accuracy: 0.7372\n",
      "Epoch 98/200\n",
      "1875/1875 [==============================] - 2s 1ms/step - loss: 1.3453 - accuracy: 0.7351\n",
      "Epoch 99/200\n",
      "1875/1875 [==============================] - 2s 1ms/step - loss: 1.6614 - accuracy: 0.7349\n",
      "Epoch 100/200\n",
      "1875/1875 [==============================] - 2s 1ms/step - loss: 1.1467 - accuracy: 0.7293\n",
      "Epoch 101/200\n",
      "1875/1875 [==============================] - 2s 1ms/step - loss: 1.4037 - accuracy: 0.7290\n",
      "Epoch 102/200\n",
      "1875/1875 [==============================] - 3s 1ms/step - loss: 1.2329 - accuracy: 0.7347\n",
      "Epoch 103/200\n",
      "1875/1875 [==============================] - 2s 1ms/step - loss: 1.2211 - accuracy: 0.7323\n",
      "Epoch 104/200\n",
      "1875/1875 [==============================] - 2s 1ms/step - loss: 1.3056 - accuracy: 0.7359\n",
      "Epoch 105/200\n",
      "1875/1875 [==============================] - 2s 1ms/step - loss: 1.1885 - accuracy: 0.7232\n",
      "Epoch 106/200\n",
      "1875/1875 [==============================] - 2s 1ms/step - loss: 1.3430 - accuracy: 0.7352\n",
      "Epoch 107/200\n",
      "1875/1875 [==============================] - 2s 1ms/step - loss: 1.5092 - accuracy: 0.7356\n",
      "Epoch 108/200\n",
      "1875/1875 [==============================] - 2s 1ms/step - loss: 1.2452 - accuracy: 0.7339\n",
      "Epoch 109/200\n",
      "1875/1875 [==============================] - 2s 1ms/step - loss: 1.3310 - accuracy: 0.7243\n",
      "Epoch 110/200\n",
      "1875/1875 [==============================] - 2s 1ms/step - loss: 1.1953 - accuracy: 0.7258\n",
      "Epoch 111/200\n",
      "1875/1875 [==============================] - 2s 1ms/step - loss: 1.4930 - accuracy: 0.7304\n",
      "Epoch 112/200\n",
      "1875/1875 [==============================] - 2s 1ms/step - loss: 1.1941 - accuracy: 0.7330\n",
      "Epoch 113/200\n",
      "1875/1875 [==============================] - 2s 1ms/step - loss: 1.3586 - accuracy: 0.7409\n",
      "Epoch 114/200\n",
      "1875/1875 [==============================] - 2s 1ms/step - loss: 1.2327 - accuracy: 0.7419\n",
      "Epoch 115/200\n",
      "1875/1875 [==============================] - 2s 1ms/step - loss: 1.4959 - accuracy: 0.7402\n",
      "Epoch 116/200\n",
      "1875/1875 [==============================] - 2s 1ms/step - loss: 1.4859 - accuracy: 0.7374\n",
      "Epoch 117/200\n",
      "1875/1875 [==============================] - 2s 1ms/step - loss: 1.5729 - accuracy: 0.7397\n",
      "Epoch 118/200\n",
      "1875/1875 [==============================] - 2s 1ms/step - loss: 1.3524 - accuracy: 0.7354\n",
      "Epoch 119/200\n",
      "1875/1875 [==============================] - 2s 1ms/step - loss: 1.4378 - accuracy: 0.7348\n",
      "Epoch 120/200\n",
      "1875/1875 [==============================] - 3s 1ms/step - loss: 1.4837 - accuracy: 0.7367\n",
      "Epoch 121/200\n",
      "1875/1875 [==============================] - 2s 1ms/step - loss: 1.1815 - accuracy: 0.7321\n",
      "Epoch 122/200\n",
      "1875/1875 [==============================] - 2s 1ms/step - loss: 1.2692 - accuracy: 0.7382\n",
      "Epoch 123/200\n",
      "1875/1875 [==============================] - 2s 1ms/step - loss: 1.3534 - accuracy: 0.7304\n",
      "Epoch 124/200\n",
      "1875/1875 [==============================] - 2s 1ms/step - loss: 1.4661 - accuracy: 0.7303\n",
      "Epoch 125/200\n",
      "1875/1875 [==============================] - 2s 1ms/step - loss: 1.4864 - accuracy: 0.7299\n",
      "Epoch 126/200\n",
      "1875/1875 [==============================] - 2s 1ms/step - loss: 1.4065 - accuracy: 0.7276\n",
      "Epoch 127/200\n",
      "1875/1875 [==============================] - 2s 1ms/step - loss: 1.2957 - accuracy: 0.7276\n",
      "Epoch 128/200\n",
      "1875/1875 [==============================] - 2s 1ms/step - loss: 1.2953 - accuracy: 0.7316\n",
      "Epoch 129/200\n",
      "1875/1875 [==============================] - 2s 1ms/step - loss: 1.2352 - accuracy: 0.7431\n",
      "Epoch 130/200\n",
      "1875/1875 [==============================] - 2s 1ms/step - loss: 1.1000 - accuracy: 0.7357\n",
      "Epoch 131/200\n",
      "1875/1875 [==============================] - 2s 1ms/step - loss: 1.3736 - accuracy: 0.7391\n",
      "Epoch 132/200\n",
      "1875/1875 [==============================] - 2s 1ms/step - loss: 1.2278 - accuracy: 0.7357\n",
      "Epoch 133/200\n",
      "1875/1875 [==============================] - 2s 1ms/step - loss: 1.3588 - accuracy: 0.7397\n",
      "Epoch 134/200\n",
      "1875/1875 [==============================] - 2s 1ms/step - loss: 1.2805 - accuracy: 0.7387\n",
      "Epoch 135/200\n",
      "1875/1875 [==============================] - 2s 1ms/step - loss: 1.3318 - accuracy: 0.7440\n",
      "Epoch 136/200\n",
      "1875/1875 [==============================] - 2s 1ms/step - loss: 1.3219 - accuracy: 0.7478\n",
      "Epoch 137/200\n",
      "1875/1875 [==============================] - 2s 1ms/step - loss: 1.4950 - accuracy: 0.7412\n",
      "Epoch 138/200\n",
      "1875/1875 [==============================] - 3s 1ms/step - loss: 1.2237 - accuracy: 0.7395\n",
      "Epoch 139/200\n",
      "1875/1875 [==============================] - 2s 1ms/step - loss: 1.3297 - accuracy: 0.7414\n",
      "Epoch 140/200\n",
      "1875/1875 [==============================] - 2s 1ms/step - loss: 1.1826 - accuracy: 0.7396\n",
      "Epoch 141/200\n",
      "1875/1875 [==============================] - 2s 1ms/step - loss: 1.3419 - accuracy: 0.7443\n",
      "Epoch 142/200\n",
      "1875/1875 [==============================] - 2s 1ms/step - loss: 1.5399 - accuracy: 0.7473\n",
      "Epoch 143/200\n",
      "1875/1875 [==============================] - 2s 1ms/step - loss: 1.3761 - accuracy: 0.7477\n",
      "Epoch 144/200\n",
      "1875/1875 [==============================] - 2s 1ms/step - loss: 1.6452 - accuracy: 0.7468\n",
      "Epoch 145/200\n",
      "1875/1875 [==============================] - 2s 1ms/step - loss: 1.3819 - accuracy: 0.7491\n",
      "Epoch 146/200\n",
      "1875/1875 [==============================] - 2s 1ms/step - loss: 1.3907 - accuracy: 0.7498\n",
      "Epoch 147/200\n",
      "1875/1875 [==============================] - 2s 1ms/step - loss: 1.9263 - accuracy: 0.7456\n",
      "Epoch 148/200\n",
      "1875/1875 [==============================] - 2s 1ms/step - loss: 1.3046 - accuracy: 0.7427\n",
      "Epoch 149/200\n",
      "1875/1875 [==============================] - 2s 1ms/step - loss: 1.2399 - accuracy: 0.7390\n",
      "Epoch 150/200\n",
      "1875/1875 [==============================] - 2s 1ms/step - loss: 1.2767 - accuracy: 0.7411\n",
      "Epoch 151/200\n",
      "1875/1875 [==============================] - 2s 1ms/step - loss: 1.3651 - accuracy: 0.7468\n",
      "Epoch 152/200\n",
      "1875/1875 [==============================] - 2s 1ms/step - loss: 1.5736 - accuracy: 0.7519\n",
      "Epoch 153/200\n",
      "1875/1875 [==============================] - 2s 1ms/step - loss: 1.4019 - accuracy: 0.7563\n",
      "Epoch 154/200\n",
      "1875/1875 [==============================] - 2s 1ms/step - loss: 1.2835 - accuracy: 0.7496\n",
      "Epoch 155/200\n",
      "1875/1875 [==============================] - 2s 1ms/step - loss: 1.1795 - accuracy: 0.7498\n",
      "Epoch 156/200\n",
      "1875/1875 [==============================] - 2s 1ms/step - loss: 1.0662 - accuracy: 0.7446\n",
      "Epoch 157/200\n"
     ]
    },
    {
     "name": "stdout",
     "output_type": "stream",
     "text": [
      "1875/1875 [==============================] - 3s 1ms/step - loss: 1.1385 - accuracy: 0.7408\n",
      "Epoch 158/200\n",
      "1875/1875 [==============================] - 2s 1ms/step - loss: 1.0170 - accuracy: 0.7423\n",
      "Epoch 159/200\n",
      "1875/1875 [==============================] - 2s 1ms/step - loss: 0.9866 - accuracy: 0.7419\n",
      "Epoch 160/200\n",
      "1875/1875 [==============================] - 2s 1ms/step - loss: 1.0467 - accuracy: 0.7416\n",
      "Epoch 161/200\n",
      "1875/1875 [==============================] - 3s 1ms/step - loss: 1.3893 - accuracy: 0.7498: 0s\n",
      "Epoch 162/200\n",
      "1875/1875 [==============================] - 2s 1ms/step - loss: 1.5140 - accuracy: 0.7438\n",
      "Epoch 163/200\n",
      "1875/1875 [==============================] - 2s 1ms/step - loss: 1.1800 - accuracy: 0.7399\n",
      "Epoch 164/200\n",
      "1875/1875 [==============================] - 2s 1ms/step - loss: 0.9174 - accuracy: 0.7429\n",
      "Epoch 165/200\n",
      "1875/1875 [==============================] - 2s 1ms/step - loss: 1.4443 - accuracy: 0.7517\n",
      "Epoch 166/200\n",
      "1875/1875 [==============================] - 2s 1ms/step - loss: 1.1746 - accuracy: 0.7453\n",
      "Epoch 167/200\n",
      "1875/1875 [==============================] - 2s 1ms/step - loss: 1.0478 - accuracy: 0.7462\n",
      "Epoch 168/200\n",
      "1875/1875 [==============================] - 2s 1ms/step - loss: 1.1016 - accuracy: 0.7469\n",
      "Epoch 169/200\n",
      "1875/1875 [==============================] - 2s 1ms/step - loss: 1.0515 - accuracy: 0.7501\n",
      "Epoch 170/200\n",
      "1875/1875 [==============================] - 2s 1ms/step - loss: 0.9947 - accuracy: 0.7485\n",
      "Epoch 171/200\n",
      "1875/1875 [==============================] - 2s 1ms/step - loss: 1.0650 - accuracy: 0.7493\n",
      "Epoch 172/200\n",
      "1875/1875 [==============================] - 2s 1ms/step - loss: 1.1990 - accuracy: 0.7472\n",
      "Epoch 173/200\n",
      "1875/1875 [==============================] - 2s 1ms/step - loss: 1.1353 - accuracy: 0.7506\n",
      "Epoch 174/200\n",
      "1875/1875 [==============================] - 2s 1ms/step - loss: 1.1331 - accuracy: 0.7465\n",
      "Epoch 175/200\n",
      "1875/1875 [==============================] - 2s 1ms/step - loss: 1.2678 - accuracy: 0.7466\n",
      "Epoch 176/200\n",
      "1875/1875 [==============================] - 2s 1ms/step - loss: 1.1694 - accuracy: 0.7441\n",
      "Epoch 177/200\n",
      "1875/1875 [==============================] - 2s 1ms/step - loss: 1.2474 - accuracy: 0.7545\n",
      "Epoch 178/200\n",
      "1875/1875 [==============================] - 2s 1ms/step - loss: 1.1374 - accuracy: 0.7522\n",
      "Epoch 179/200\n",
      "1875/1875 [==============================] - 3s 1ms/step - loss: 1.2451 - accuracy: 0.7537\n",
      "Epoch 180/200\n",
      "1875/1875 [==============================] - 2s 1ms/step - loss: 1.1241 - accuracy: 0.7491\n",
      "Epoch 181/200\n",
      "1875/1875 [==============================] - 2s 1ms/step - loss: 1.0049 - accuracy: 0.7478\n",
      "Epoch 182/200\n",
      "1875/1875 [==============================] - 2s 1ms/step - loss: 1.1154 - accuracy: 0.7515\n",
      "Epoch 183/200\n",
      "1875/1875 [==============================] - 2s 1ms/step - loss: 1.2127 - accuracy: 0.7532\n",
      "Epoch 184/200\n",
      "1875/1875 [==============================] - 3s 1ms/step - loss: 1.2135 - accuracy: 0.7502\n",
      "Epoch 185/200\n",
      "1875/1875 [==============================] - 2s 1ms/step - loss: 1.4864 - accuracy: 0.7505\n",
      "Epoch 186/200\n",
      "1875/1875 [==============================] - 2s 1ms/step - loss: 1.2227 - accuracy: 0.7490\n",
      "Epoch 187/200\n",
      "1875/1875 [==============================] - 2s 1ms/step - loss: 0.9563 - accuracy: 0.7492\n",
      "Epoch 188/200\n",
      "1875/1875 [==============================] - 2s 1ms/step - loss: 1.2192 - accuracy: 0.7463\n",
      "Epoch 189/200\n",
      "1875/1875 [==============================] - 2s 1ms/step - loss: 1.1268 - accuracy: 0.7452\n",
      "Epoch 190/200\n",
      "1875/1875 [==============================] - 2s 1ms/step - loss: 1.3682 - accuracy: 0.7458\n",
      "Epoch 191/200\n",
      "1875/1875 [==============================] - 2s 1ms/step - loss: 1.4488 - accuracy: 0.7425\n",
      "Epoch 192/200\n",
      "1875/1875 [==============================] - 2s 1ms/step - loss: 1.2527 - accuracy: 0.7443\n",
      "Epoch 193/200\n",
      "1875/1875 [==============================] - 3s 1ms/step - loss: 0.9995 - accuracy: 0.7414\n",
      "Epoch 194/200\n",
      "1875/1875 [==============================] - 2s 1ms/step - loss: 1.0140 - accuracy: 0.7446\n",
      "Epoch 195/200\n",
      "1875/1875 [==============================] - 2s 1ms/step - loss: 1.0598 - accuracy: 0.7453\n",
      "Epoch 196/200\n",
      "1875/1875 [==============================] - 2s 1ms/step - loss: 0.8197 - accuracy: 0.7464\n",
      "Epoch 197/200\n",
      "1875/1875 [==============================] - 3s 1ms/step - loss: 0.9809 - accuracy: 0.7485\n",
      "Epoch 198/200\n",
      "1875/1875 [==============================] - 2s 1ms/step - loss: 1.0963 - accuracy: 0.7454\n",
      "Epoch 199/200\n",
      "1875/1875 [==============================] - 2s 1ms/step - loss: 0.9183 - accuracy: 0.7529\n",
      "Epoch 200/200\n",
      "1875/1875 [==============================] - 2s 1ms/step - loss: 1.1293 - accuracy: 0.7528\n",
      "313/313 - 0s - loss: 15.1154 - accuracy: 0.7865\n"
     ]
    },
    {
     "data": {
      "text/plain": [
       "[15.115407943725586, 0.7864999771118164]"
      ]
     },
     "execution_count": 306,
     "metadata": {},
     "output_type": "execute_result"
    }
   ],
   "source": [
    "optimizer= tf.keras.optimizers.RMSprop(learning_rate=0.9)\n",
    "model.compile(optimizer=optimizer,\n",
    "              loss='sparse_categorical_crossentropy',\n",
    "              metrics=['accuracy'])\n",
    "\n",
    "history = model.fit(x_train, y_train, epochs=200)\n",
    "model.evaluate(x_test,  y_test, verbose=2)"
   ]
  },
  {
   "cell_type": "code",
   "execution_count": null,
   "id": "37b085ad",
   "metadata": {},
   "outputs": [],
   "source": [
    "fig, (ax1, ax2) = plt.subplots(1, 2, figsize=(10, 3))\n",
    "\n",
    "#ax1.subplot(1, 2, 1)\n",
    "ax1.plot(history.history['accuracy'])\n",
    "#plt.plot(history.history['val_accuracy'])\n",
    "ax1.set_title('model accuracy')\n",
    "ax1.set_ylabel('accuracy')\n",
    "ax1.set_xlabel('epoch')\n",
    "#ax1.show()\n",
    "\n",
    "#ax2.subplot(1, 2, 2)\n",
    "ax2.plot(history.history['loss'])\n",
    "#plt.plot(history.history['val_loss'])\n",
    "ax2.set_title('model loss')\n",
    "ax2.set_ylabel('loss')\n",
    "ax2.set_xlabel('epoch')"
   ]
  },
  {
   "cell_type": "markdown",
   "id": "754e3b6f",
   "metadata": {},
   "source": [
    "![](imagenes/sgd0,9.png)"
   ]
  },
  {
   "cell_type": "markdown",
   "id": "ff108a37",
   "metadata": {},
   "source": [
    "#### RSMprop - 1.5"
   ]
  },
  {
   "cell_type": "code",
   "execution_count": null,
   "id": "d2fb1c93",
   "metadata": {},
   "outputs": [],
   "source": [
    "optimizer= tf.keras.optimizers.RMSprop(learning_rate=1.5)\n",
    "model.compile(optimizer=optimizer,\n",
    "              loss='sparse_categorical_crossentropy',\n",
    "              metrics=['accuracy'])\n",
    "#history = model.fit(X, Y, validation_split=0.33, epochs=150, batch_size=10, verbose=0)\n",
    "history = model.fit(x_train, y_train, epochs=200)\n",
    "model.evaluate(x_test,  y_test, verbose=2)"
   ]
  },
  {
   "cell_type": "markdown",
   "id": "7dc6dea9",
   "metadata": {},
   "source": [
    "![](imagenes/Captura9.png)"
   ]
  },
  {
   "cell_type": "code",
   "execution_count": null,
   "id": "b1012e78",
   "metadata": {},
   "outputs": [],
   "source": [
    "fig, (ax1, ax2) = plt.subplots(1, 2, figsize=(10, 3))\n",
    "\n",
    "#ax1.subplot(1, 2, 1)\n",
    "ax1.plot(history.history['accuracy'])\n",
    "#plt.plot(history.history['val_accuracy'])\n",
    "ax1.set_title('model accuracy')\n",
    "ax1.set_ylabel('accuracy')\n",
    "ax1.set_xlabel('epoch')\n",
    "#ax1.show()\n",
    "\n",
    "#ax2.subplot(1, 2, 2)\n",
    "ax2.plot(history.history['loss'])\n",
    "#plt.plot(history.history['val_loss'])\n",
    "ax2.set_title('model loss')\n",
    "ax2.set_ylabel('loss')\n",
    "ax2.set_xlabel('epoch')"
   ]
  },
  {
   "cell_type": "markdown",
   "id": "4eff079f",
   "metadata": {},
   "source": [
    "![](imagenes/rsm1,5.png)"
   ]
  },
  {
   "cell_type": "markdown",
   "id": "f1d2c258",
   "metadata": {},
   "source": [
    "#### Adagram - 0.001"
   ]
  },
  {
   "cell_type": "code",
   "execution_count": null,
   "id": "f210ea57",
   "metadata": {},
   "outputs": [],
   "source": [
    "optimizer= tf.keras.optimizers.Adagrad(learning_rate=0.001)\n",
    "model.compile(optimizer=optimizer,\n",
    "              loss='sparse_categorical_crossentropy',\n",
    "              metrics=['accuracy'])\n",
    "#history = model.fit(X, Y, validation_split=0.33, epochs=150, batch_size=10, verbose=0)\n",
    "history = model.fit(x_train, y_train, epochs=200)\n",
    "model.evaluate(x_test,  y_test, verbose=2)"
   ]
  },
  {
   "cell_type": "markdown",
   "id": "b3a4b4ac",
   "metadata": {},
   "source": [
    "![](imagenes/Captura10.png)"
   ]
  },
  {
   "cell_type": "code",
   "execution_count": null,
   "id": "405e1f2c",
   "metadata": {},
   "outputs": [],
   "source": [
    "fig, (ax1, ax2) = plt.subplots(1, 2, figsize=(10, 3))\n",
    "\n",
    "#ax1.subplot(1, 2, 1)\n",
    "ax1.plot(history.history['accuracy'])\n",
    "#plt.plot(history.history['val_accuracy'])\n",
    "ax1.set_title('model accuracy')\n",
    "ax1.set_ylabel('accuracy')\n",
    "ax1.set_xlabel('epoch')\n",
    "#ax1.show()\n",
    "\n",
    "#ax2.subplot(1, 2, 2)\n",
    "ax2.plot(history.history['loss'])\n",
    "#plt.plot(history.history['val_loss'])\n",
    "ax2.set_title('model loss')\n",
    "ax2.set_ylabel('loss')\n",
    "ax2.set_xlabel('epoch')"
   ]
  },
  {
   "cell_type": "markdown",
   "id": "c7a8c73f",
   "metadata": {},
   "source": [
    "![](imagenes/adagram0,001.png)"
   ]
  },
  {
   "cell_type": "markdown",
   "id": "4bc7af91",
   "metadata": {},
   "source": [
    "#### Adagram - 0.1"
   ]
  },
  {
   "cell_type": "code",
   "execution_count": null,
   "id": "885a31e3",
   "metadata": {},
   "outputs": [],
   "source": [
    "optimizer= tf.keras.optimizers.Adagrad(learning_rate=0.1)\n",
    "model.compile(optimizer=optimizer,\n",
    "              loss='sparse_categorical_crossentropy',\n",
    "              metrics=['accuracy'])\n",
    "#history = model.fit(X, Y, validation_split=0.33, epochs=150, batch_size=10, verbose=0)\n",
    "history = model.fit(x_train, y_train, epochs=200)\n",
    "model.evaluate(x_test,  y_test, verbose=2)"
   ]
  },
  {
   "cell_type": "markdown",
   "id": "6ca51f3e",
   "metadata": {},
   "source": [
    "![](imagenes/Captura11.png)"
   ]
  },
  {
   "cell_type": "code",
   "execution_count": null,
   "id": "4eb76afb",
   "metadata": {},
   "outputs": [],
   "source": [
    "fig, (ax1, ax2) = plt.subplots(1, 2, figsize=(10, 3))\n",
    "\n",
    "#ax1.subplot(1, 2, 1)\n",
    "ax1.plot(history.history['accuracy'])\n",
    "#plt.plot(history.history['val_accuracy'])\n",
    "ax1.set_title('model accuracy')\n",
    "ax1.set_ylabel('accuracy')\n",
    "ax1.set_xlabel('epoch')\n",
    "#ax1.show()\n",
    "\n",
    "#ax2.subplot(1, 2, 2)\n",
    "ax2.plot(history.history['loss'])\n",
    "#plt.plot(history.history['val_loss'])\n",
    "ax2.set_title('model loss')\n",
    "ax2.set_ylabel('loss')\n",
    "ax2.set_xlabel('epoch')"
   ]
  },
  {
   "cell_type": "markdown",
   "id": "fab3ac19",
   "metadata": {},
   "source": [
    "![](imagenes/adagram0,1.png)"
   ]
  },
  {
   "cell_type": "markdown",
   "id": "6278ba5c",
   "metadata": {},
   "source": [
    "#### Adagram - 0.5"
   ]
  },
  {
   "cell_type": "code",
   "execution_count": null,
   "id": "fe16a295",
   "metadata": {},
   "outputs": [],
   "source": [
    "optimizer= tf.keras.optimizers.Adagrad(learning_rate=0.5)\n",
    "model.compile(optimizer=optimizer,\n",
    "              loss='sparse_categorical_crossentropy',\n",
    "              metrics=['accuracy'])\n",
    "#history = model.fit(X, Y, validation_split=0.33, epochs=150, batch_size=10, verbose=0)\n",
    "history = model.fit(x_train, y_train, epochs=200)\n",
    "model.evaluate(x_test,  y_test, verbose=2)"
   ]
  },
  {
   "cell_type": "markdown",
   "id": "4357e56d",
   "metadata": {},
   "source": [
    "![](imagenes/Captura12.png)"
   ]
  },
  {
   "cell_type": "code",
   "execution_count": null,
   "id": "b2e7dd2e",
   "metadata": {},
   "outputs": [],
   "source": [
    "fig, (ax1, ax2) = plt.subplots(1, 2, figsize=(10, 3))\n",
    "\n",
    "#ax1.subplot(1, 2, 1)\n",
    "ax1.plot(history.history['accuracy'])\n",
    "#plt.plot(history.history['val_accuracy'])\n",
    "ax1.set_title('model accuracy')\n",
    "ax1.set_ylabel('accuracy')\n",
    "ax1.set_xlabel('epoch')\n",
    "#ax1.show()\n",
    "\n",
    "#ax2.subplot(1, 2, 2)\n",
    "ax2.plot(history.history['loss'])\n",
    "#plt.plot(history.history['val_loss'])\n",
    "ax2.set_title('model loss')\n",
    "ax2.set_ylabel('loss')\n",
    "ax2.set_xlabel('epoch')"
   ]
  },
  {
   "cell_type": "markdown",
   "id": "ec57507c",
   "metadata": {},
   "source": [
    "![](imagenes/adagram_0,5.png)"
   ]
  },
  {
   "cell_type": "markdown",
   "id": "038f6238",
   "metadata": {},
   "source": [
    "#### Adagram - 0.9"
   ]
  },
  {
   "cell_type": "code",
   "execution_count": null,
   "id": "443d1455",
   "metadata": {},
   "outputs": [],
   "source": [
    "optimizer= tf.keras.optimizers.Adagrad(learning_rate=0.9)\n",
    "model.compile(optimizer=optimizer,\n",
    "              loss='sparse_categorical_crossentropy',\n",
    "              metrics=['accuracy'])\n",
    "#history = model.fit(X, Y, validation_split=0.33, epochs=150, batch_size=10, verbose=0)\n",
    "history = model.fit(x_train, y_train, epochs=200)\n",
    "model.evaluate(x_test,  y_test, verbose=2)"
   ]
  },
  {
   "cell_type": "markdown",
   "id": "8f65a6fc",
   "metadata": {},
   "source": [
    "![](imagenes/Captura13.png)"
   ]
  },
  {
   "cell_type": "code",
   "execution_count": null,
   "id": "3e83ec26",
   "metadata": {},
   "outputs": [],
   "source": [
    "fig, (ax1, ax2) = plt.subplots(1, 2, figsize=(10, 3))\n",
    "\n",
    "#ax1.subplot(1, 2, 1)\n",
    "ax1.plot(history.history['accuracy'])\n",
    "#plt.plot(history.history['val_accuracy'])\n",
    "ax1.set_title('model accuracy')\n",
    "ax1.set_ylabel('accuracy')\n",
    "ax1.set_xlabel('epoch')\n",
    "#ax1.show()\n",
    "\n",
    "#ax2.subplot(1, 2, 2)\n",
    "ax2.plot(history.history['loss'])\n",
    "#plt.plot(history.history['val_loss'])\n",
    "ax2.set_title('model loss')\n",
    "ax2.set_ylabel('loss')\n",
    "ax2.set_xlabel('epoch')"
   ]
  },
  {
   "cell_type": "markdown",
   "id": "4d8072f5",
   "metadata": {},
   "source": [
    "![](imagenes/adagram0,9.png)"
   ]
  },
  {
   "cell_type": "markdown",
   "id": "f63b07ee",
   "metadata": {},
   "source": [
    "#### Adagram - 1.5\n"
   ]
  },
  {
   "cell_type": "code",
   "execution_count": null,
   "id": "cadd01ea",
   "metadata": {},
   "outputs": [],
   "source": [
    "optimizer= tf.keras.optimizers.Adagrad(learning_rate=1.5)\n",
    "model.compile(optimizer=optimizer,\n",
    "              loss='sparse_categorical_crossentropy',\n",
    "              metrics=['accuracy'])\n",
    "#history = model.fit(X, Y, validation_split=0.33, epochs=150, batch_size=10, verbose=0)\n",
    "history = model.fit(x_train, y_train, epochs=200)\n",
    "model.evaluate(x_test,  y_test, verbose=2)"
   ]
  },
  {
   "cell_type": "markdown",
   "id": "868a5d9a",
   "metadata": {},
   "source": [
    "![](imagenes/Captura14.png)"
   ]
  },
  {
   "cell_type": "code",
   "execution_count": null,
   "id": "e2154f53",
   "metadata": {},
   "outputs": [],
   "source": [
    "fig, (ax1, ax2) = plt.subplots(1, 2, figsize=(10, 3))\n",
    "\n",
    "#ax1.subplot(1, 2, 1)\n",
    "ax1.plot(history.history['accuracy'])\n",
    "#plt.plot(history.history['val_accuracy'])\n",
    "ax1.set_title('model accuracy')\n",
    "ax1.set_ylabel('accuracy')\n",
    "ax1.set_xlabel('epoch')\n",
    "#ax1.show()\n",
    "\n",
    "#ax2.subplot(1, 2, 2)\n",
    "ax2.plot(history.history['loss'])\n",
    "#plt.plot(history.history['val_loss'])\n",
    "ax2.set_title('model loss')\n",
    "ax2.set_ylabel('loss')\n",
    "ax2.set_xlabel('epoch')"
   ]
  },
  {
   "cell_type": "markdown",
   "id": "adec10e2",
   "metadata": {},
   "source": [
    "![](imagenes/adagram1,5.png)"
   ]
  },
  {
   "cell_type": "markdown",
   "id": "5e8eb809",
   "metadata": {},
   "source": [
    "#### AdDelta - 0.001"
   ]
  },
  {
   "cell_type": "code",
   "execution_count": null,
   "id": "3975c4a2",
   "metadata": {},
   "outputs": [],
   "source": [
    "optimizer= tf.keras.optimizers.Adadelta(learning_rate=0.001)\n",
    "model.compile(optimizer=optimizer,\n",
    "              loss='sparse_categorical_crossentropy',\n",
    "              metrics=['accuracy'])\n",
    "#history = model.fit(X, Y, validation_split=0.33, epochs=150, batch_size=10, verbose=0)\n",
    "history = model.fit(x_train, y_train, epochs=200)\n",
    "model.evaluate(x_test,  y_test, verbose=2)"
   ]
  },
  {
   "cell_type": "markdown",
   "id": "33f6520b",
   "metadata": {},
   "source": [
    "![](imagenes/Captura15.png)"
   ]
  },
  {
   "cell_type": "code",
   "execution_count": null,
   "id": "512a009f",
   "metadata": {},
   "outputs": [],
   "source": [
    "fig, (ax1, ax2) = plt.subplots(1, 2, figsize=(10, 3))\n",
    "\n",
    "#ax1.subplot(1, 2, 1)\n",
    "ax1.plot(history.history['accuracy'])\n",
    "#plt.plot(history.history['val_accuracy'])\n",
    "ax1.set_title('model accuracy')\n",
    "ax1.set_ylabel('accuracy')\n",
    "ax1.set_xlabel('epoch')\n",
    "#ax1.show()\n",
    "\n",
    "#ax2.subplot(1, 2, 2)\n",
    "ax2.plot(history.history['loss'])\n",
    "#plt.plot(history.history['val_loss'])\n",
    "ax2.set_title('model loss')\n",
    "ax2.set_ylabel('loss')\n",
    "ax2.set_xlabel('epoch')"
   ]
  },
  {
   "cell_type": "markdown",
   "id": "ecb3b23c",
   "metadata": {},
   "source": [
    "![](imagenes/adadeltal0,001.png)"
   ]
  },
  {
   "cell_type": "markdown",
   "id": "4d56af49",
   "metadata": {},
   "source": [
    "#### AdDelta - 0.1"
   ]
  },
  {
   "cell_type": "code",
   "execution_count": null,
   "id": "51d50548",
   "metadata": {},
   "outputs": [],
   "source": [
    "optimizer= tf.keras.optimizers.Adadelta(learning_rate=0.1)\n",
    "model.compile(optimizer=optimizer,\n",
    "              loss='sparse_categorical_crossentropy',\n",
    "              metrics=['accuracy'])\n",
    "#history = model.fit(X, Y, validation_split=0.33, epochs=150, batch_size=10, verbose=0)\n",
    "history = model.fit(x_train, y_train, epochs=200)\n",
    "model.evaluate(x_test,  y_test, verbose=2)"
   ]
  },
  {
   "cell_type": "markdown",
   "id": "17f2df90",
   "metadata": {},
   "source": [
    "![](imagenes/Captura16.png)"
   ]
  },
  {
   "cell_type": "code",
   "execution_count": null,
   "id": "7adff202",
   "metadata": {},
   "outputs": [],
   "source": [
    "fig, (ax1, ax2) = plt.subplots(1, 2, figsize=(10, 3))\n",
    "\n",
    "#ax1.subplot(1, 2, 1)\n",
    "ax1.plot(history.history['accuracy'])\n",
    "#plt.plot(history.history['val_accuracy'])\n",
    "ax1.set_title('model accuracy')\n",
    "ax1.set_ylabel('accuracy')\n",
    "ax1.set_xlabel('epoch')\n",
    "#ax1.show()\n",
    "\n",
    "#ax2.subplot(1, 2, 2)\n",
    "ax2.plot(history.history['loss'])\n",
    "#plt.plot(history.history['val_loss'])\n",
    "ax2.set_title('model loss')\n",
    "ax2.set_ylabel('loss')\n",
    "ax2.set_xlabel('epoch')"
   ]
  },
  {
   "cell_type": "markdown",
   "id": "396b1807",
   "metadata": {},
   "source": [
    "![](imagenes/adadelta0,1.png)"
   ]
  },
  {
   "cell_type": "markdown",
   "id": "739620f2",
   "metadata": {},
   "source": [
    "#### AdDelta - 0.5\n"
   ]
  },
  {
   "cell_type": "code",
   "execution_count": null,
   "id": "c72da76d",
   "metadata": {},
   "outputs": [],
   "source": [
    "optimizer= tf.keras.optimizers.Adadelta(learning_rate=0.5)\n",
    "model.compile(optimizer=optimizer,\n",
    "              loss='sparse_categorical_crossentropy',\n",
    "              metrics=['accuracy'])\n",
    "#history = model.fit(X, Y, validation_split=0.33, epochs=150, batch_size=10, verbose=0)\n",
    "history = model.fit(x_train, y_train, epochs=200)\n",
    "model.evaluate(x_test,  y_test, verbose=2)"
   ]
  },
  {
   "cell_type": "markdown",
   "id": "5300fa89",
   "metadata": {},
   "source": [
    "![](imagenes/Captura17.png)"
   ]
  },
  {
   "cell_type": "code",
   "execution_count": null,
   "id": "1e549119",
   "metadata": {},
   "outputs": [],
   "source": [
    "fig, (ax1, ax2) = plt.subplots(1, 2, figsize=(10, 3))\n",
    "\n",
    "#ax1.subplot(1, 2, 1)\n",
    "ax1.plot(history.history['accuracy'])\n",
    "#plt.plot(history.history['val_accuracy'])\n",
    "ax1.set_title('model accuracy')\n",
    "ax1.set_ylabel('accuracy')\n",
    "ax1.set_xlabel('epoch')\n",
    "#ax1.show()\n",
    "\n",
    "#ax2.subplot(1, 2, 2)\n",
    "ax2.plot(history.history['loss'])\n",
    "#plt.plot(history.history['val_loss'])\n",
    "ax2.set_title('model loss')\n",
    "ax2.set_ylabel('loss')\n",
    "ax2.set_xlabel('epoch')"
   ]
  },
  {
   "cell_type": "markdown",
   "id": "c05febba",
   "metadata": {},
   "source": [
    "![](imagenes/adadelta0,5.png)"
   ]
  },
  {
   "cell_type": "markdown",
   "id": "1b3b98d5",
   "metadata": {},
   "source": [
    "#### AdDelta - 0.9\n"
   ]
  },
  {
   "cell_type": "code",
   "execution_count": null,
   "id": "b2cf5c67",
   "metadata": {},
   "outputs": [],
   "source": [
    "optimizer= tf.keras.optimizers.Adadelta(learning_rate=0.9)\n",
    "model.compile(optimizer=optimizer,\n",
    "              loss='sparse_categorical_crossentropy',\n",
    "              metrics=['accuracy'])\n",
    "#history = model.fit(X, Y, validation_split=0.33, epochs=150, batch_size=10, verbose=0)\n",
    "history = model.fit(x_train, y_train, epochs=200)\n",
    "model.evaluate(x_test,  y_test, verbose=2)"
   ]
  },
  {
   "cell_type": "markdown",
   "id": "a768a6d4",
   "metadata": {},
   "source": [
    "![](imagenes/Captura18.png)"
   ]
  },
  {
   "cell_type": "code",
   "execution_count": null,
   "id": "090fd9f8",
   "metadata": {},
   "outputs": [],
   "source": [
    "fig, (ax1, ax2) = plt.subplots(1, 2, figsize=(10, 3))\n",
    "\n",
    "#ax1.subplot(1, 2, 1)\n",
    "ax1.plot(history.history['accuracy'])\n",
    "#plt.plot(history.history['val_accuracy'])\n",
    "ax1.set_title('model accuracy')\n",
    "ax1.set_ylabel('accuracy')\n",
    "ax1.set_xlabel('epoch')\n",
    "#ax1.show()\n",
    "\n",
    "#ax2.subplot(1, 2, 2)\n",
    "ax2.plot(history.history['loss'])\n",
    "#plt.plot(history.history['val_loss'])\n",
    "ax2.set_title('model loss')\n",
    "ax2.set_ylabel('loss')\n",
    "ax2.set_xlabel('epoch')"
   ]
  },
  {
   "cell_type": "markdown",
   "id": "7955e898",
   "metadata": {},
   "source": [
    "![](imagenes/adadelta0,9.png)"
   ]
  },
  {
   "cell_type": "markdown",
   "id": "7c85d458",
   "metadata": {},
   "source": [
    "#### AdDelta - 1.5\n"
   ]
  },
  {
   "cell_type": "code",
   "execution_count": null,
   "id": "6ed3e620",
   "metadata": {},
   "outputs": [],
   "source": [
    "optimizer= tf.keras.optimizers.Adadelta(learning_rate=1.5)\n",
    "model.compile(optimizer=optimizer,\n",
    "              loss='sparse_categorical_crossentropy',\n",
    "              metrics=['accuracy'])\n",
    "#history = model.fit(X, Y, validation_split=0.33, epochs=150, batch_size=10, verbose=0)\n",
    "history = model.fit(x_train, y_train, epochs=200)\n",
    "model.evaluate(x_test,  y_test, verbose=2)"
   ]
  },
  {
   "cell_type": "markdown",
   "id": "f50c96ba",
   "metadata": {},
   "source": [
    "![](imagenes/Captura19.png)"
   ]
  },
  {
   "cell_type": "code",
   "execution_count": null,
   "id": "7542a327",
   "metadata": {},
   "outputs": [],
   "source": [
    "fig, (ax1, ax2) = plt.subplots(1, 2, figsize=(10, 3))\n",
    "\n",
    "#ax1.subplot(1, 2, 1)\n",
    "ax1.plot(history.history['accuracy'])\n",
    "#plt.plot(history.history['val_accuracy'])\n",
    "ax1.set_title('model accuracy')\n",
    "ax1.set_ylabel('accuracy')\n",
    "ax1.set_xlabel('epoch')\n",
    "#ax1.show()\n",
    "\n",
    "#ax2.subplot(1, 2, 2)\n",
    "ax2.plot(history.history['loss'])\n",
    "#plt.plot(history.history['val_loss'])\n",
    "ax2.set_title('model loss')\n",
    "ax2.set_ylabel('loss')\n",
    "ax2.set_xlabel('epoch')"
   ]
  },
  {
   "cell_type": "markdown",
   "id": "eff7a97e",
   "metadata": {},
   "source": [
    "![](imagenes/adadelta1,5.png)"
   ]
  },
  {
   "cell_type": "markdown",
   "id": "03633918",
   "metadata": {},
   "source": [
    "## Sobreentrenamiento\n",
    "Se  reduce la cantidad de datos de entrenamiento y se reevalua el desempeño de los optimizadores. Se usó 600 datos para entrenamiento y 100 para testeo"
   ]
  },
  {
   "cell_type": "markdown",
   "id": "5b72e940",
   "metadata": {},
   "source": [
    "#### SGD - 0.001"
   ]
  },
  {
   "cell_type": "code",
   "execution_count": null,
   "id": "231ecc21",
   "metadata": {},
   "outputs": [],
   "source": [
    "optimizer= tf.keras.optimizers.SGD(learning_rate=0.001)\n",
    "model.compile(optimizer=optimizer,\n",
    "              loss='sparse_categorical_crossentropy',\n",
    "              metrics=['accuracy'])\n",
    "\n",
    "history = model.fit(x_train_, y_train_, epochs=100)\n",
    "model.evaluate(x_test_,  y_test_, verbose=2)"
   ]
  },
  {
   "cell_type": "markdown",
   "id": "ee4f7301",
   "metadata": {},
   "source": [
    "![](imagenes/Captura20.png)"
   ]
  },
  {
   "cell_type": "code",
   "execution_count": null,
   "id": "d6a680ec",
   "metadata": {},
   "outputs": [],
   "source": [
    "fig, (ax1, ax2) = plt.subplots(1, 2, figsize=(10, 3))\n",
    "\n",
    "#ax1.subplot(1, 2, 1)\n",
    "ax1.plot(history.history['accuracy'])\n",
    "#plt.plot(history.history['val_accuracy'])\n",
    "ax1.set_title('model accuracy')\n",
    "ax1.set_ylabel('accuracy')\n",
    "ax1.set_xlabel('epoch')\n",
    "#ax1.show()\n",
    "\n",
    "#ax2.subplot(1, 2, 2)\n",
    "ax2.plot(history.history['loss'])\n",
    "#plt.plot(history.history['val_loss'])\n",
    "ax2.set_title('model loss')\n",
    "ax2.set_ylabel('loss')\n",
    "ax2.set_xlabel('epoch')"
   ]
  },
  {
   "cell_type": "markdown",
   "id": "bb0718e0",
   "metadata": {},
   "source": [
    "![](imagenes/sobresgd0,001.png)"
   ]
  },
  {
   "cell_type": "markdown",
   "id": "71f09312",
   "metadata": {},
   "source": [
    "#### SGD - 0.1"
   ]
  },
  {
   "cell_type": "code",
   "execution_count": null,
   "id": "3551a8e5",
   "metadata": {},
   "outputs": [],
   "source": [
    "optimizer= tf.keras.optimizers.SGD(learning_rate=0.1)\n",
    "model.compile(optimizer=optimizer,\n",
    "              loss='sparse_categorical_crossentropy',\n",
    "              metrics=['accuracy'])\n",
    "\n",
    "history = model.fit(x_train_, y_train_, epochs=100)\n",
    "model.evaluate(x_test_,  y_test_, verbose=2)"
   ]
  },
  {
   "cell_type": "markdown",
   "id": "39b74a4a",
   "metadata": {},
   "source": [
    "![](imagenes/Captura21.png)"
   ]
  },
  {
   "cell_type": "code",
   "execution_count": null,
   "id": "e740543d",
   "metadata": {},
   "outputs": [],
   "source": [
    "fig, (ax1, ax2) = plt.subplots(1, 2, figsize=(10, 3))\n",
    "\n",
    "#ax1.subplot(1, 2, 1)\n",
    "ax1.plot(history.history['accuracy'])\n",
    "#plt.plot(history.history['val_accuracy'])\n",
    "ax1.set_title('model accuracy')\n",
    "ax1.set_ylabel('accuracy')\n",
    "ax1.set_xlabel('epoch')\n",
    "#ax1.show()\n",
    "\n",
    "#ax2.subplot(1, 2, 2)\n",
    "ax2.plot(history.history['loss'])\n",
    "#plt.plot(history.history['val_loss'])\n",
    "ax2.set_title('model loss')\n",
    "ax2.set_ylabel('loss')\n",
    "ax2.set_xlabel('epoch')"
   ]
  },
  {
   "cell_type": "markdown",
   "id": "3e14d6cb",
   "metadata": {},
   "source": [
    "![](imagenes/sobresgd0,1.png)"
   ]
  },
  {
   "cell_type": "markdown",
   "id": "8cf1af3e",
   "metadata": {},
   "source": [
    "#### SGD - 0.5"
   ]
  },
  {
   "cell_type": "code",
   "execution_count": null,
   "id": "4275b2aa",
   "metadata": {},
   "outputs": [],
   "source": [
    "optimizer= tf.keras.optimizers.SGD(learning_rate=0.5)\n",
    "model.compile(optimizer=optimizer,\n",
    "              loss='sparse_categorical_crossentropy',\n",
    "              metrics=['accuracy'])\n",
    "\n",
    "history = model.fit(x_train_, y_train_, epochs=100)\n",
    "model.evaluate(x_test_,  y_test_, verbose=2)"
   ]
  },
  {
   "cell_type": "markdown",
   "id": "8119c66c",
   "metadata": {},
   "source": [
    "![](imagenes/Captura22.png)"
   ]
  },
  {
   "cell_type": "code",
   "execution_count": null,
   "id": "a758bf3d",
   "metadata": {},
   "outputs": [],
   "source": [
    "fig, (ax1, ax2) = plt.subplots(1, 2, figsize=(10, 3))\n",
    "\n",
    "#ax1.subplot(1, 2, 1)\n",
    "ax1.plot(history.history['accuracy'])\n",
    "#plt.plot(history.history['val_accuracy'])\n",
    "ax1.set_title('model accuracy')\n",
    "ax1.set_ylabel('accuracy')\n",
    "ax1.set_xlabel('epoch')\n",
    "#ax1.show()\n",
    "\n",
    "#ax2.subplot(1, 2, 2)\n",
    "ax2.plot(history.history['loss'])\n",
    "#plt.plot(history.history['val_loss'])\n",
    "ax2.set_title('model loss')\n",
    "ax2.set_ylabel('loss')\n",
    "ax2.set_xlabel('epoch')"
   ]
  },
  {
   "cell_type": "markdown",
   "id": "ac43b71d",
   "metadata": {},
   "source": [
    "![](imagenes/sobresgd0,5.png)"
   ]
  },
  {
   "cell_type": "markdown",
   "id": "76ec0e27",
   "metadata": {},
   "source": [
    "#### SGD - 0.9"
   ]
  },
  {
   "cell_type": "code",
   "execution_count": null,
   "id": "3b2abbb0",
   "metadata": {},
   "outputs": [],
   "source": [
    "optimizer= tf.keras.optimizers.SGD(learning_rate=0.9)\n",
    "model.compile(optimizer=optimizer,\n",
    "              loss='sparse_categorical_crossentropy',\n",
    "              metrics=['accuracy'])\n",
    "\n",
    "history = model.fit(x_train_, y_train_, epochs=100)\n",
    "model.evaluate(x_test_,  y_test_, verbose=2)"
   ]
  },
  {
   "cell_type": "markdown",
   "id": "aed77dd4",
   "metadata": {},
   "source": [
    "![](imagenes/Captura23.png)"
   ]
  },
  {
   "cell_type": "code",
   "execution_count": null,
   "id": "43a9e782",
   "metadata": {},
   "outputs": [],
   "source": [
    "fig, (ax1, ax2) = plt.subplots(1, 2, figsize=(10, 3))\n",
    "\n",
    "#ax1.subplot(1, 2, 1)\n",
    "ax1.plot(history.history['accuracy'])\n",
    "#plt.plot(history.history['val_accuracy'])\n",
    "ax1.set_title('model accuracy')\n",
    "ax1.set_ylabel('accuracy')\n",
    "ax1.set_xlabel('epoch')\n",
    "#ax1.show()\n",
    "\n",
    "#ax2.subplot(1, 2, 2)\n",
    "ax2.plot(history.history['loss'])\n",
    "#plt.plot(history.history['val_loss'])\n",
    "ax2.set_title('model loss')\n",
    "ax2.set_ylabel('loss')\n",
    "ax2.set_xlabel('epoch')"
   ]
  },
  {
   "cell_type": "markdown",
   "id": "88cfa25c",
   "metadata": {},
   "source": [
    "![](imagenes/sobresgd0,9.png)"
   ]
  },
  {
   "cell_type": "markdown",
   "id": "8e94b79d",
   "metadata": {},
   "source": [
    "#### SGD - 1.5"
   ]
  },
  {
   "cell_type": "code",
   "execution_count": null,
   "id": "666b7ee4",
   "metadata": {},
   "outputs": [],
   "source": [
    "optimizer= tf.keras.optimizers.SGD(learning_rate=1.5)\n",
    "model.compile(optimizer=optimizer,\n",
    "              loss='sparse_categorical_crossentropy',\n",
    "              metrics=['accuracy'])\n",
    "\n",
    "history = model.fit(x_train_, y_train_, epochs=100)\n",
    "model.evaluate(x_test_,  y_test_, verbose=2)"
   ]
  },
  {
   "cell_type": "markdown",
   "id": "3c08ebc6",
   "metadata": {},
   "source": [
    "![](imagenes/Captura24.png)"
   ]
  },
  {
   "cell_type": "code",
   "execution_count": null,
   "id": "312d6aa0",
   "metadata": {},
   "outputs": [],
   "source": [
    "fig, (ax1, ax2) = plt.subplots(1, 2, figsize=(10, 3))\n",
    "\n",
    "#ax1.subplot(1, 2, 1)\n",
    "ax1.plot(history.history['accuracy'])\n",
    "#plt.plot(history.history['val_accuracy'])\n",
    "ax1.set_title('model accuracy')\n",
    "ax1.set_ylabel('accuracy')\n",
    "ax1.set_xlabel('epoch')\n",
    "#ax1.show()\n",
    "\n",
    "#ax2.subplot(1, 2, 2)\n",
    "ax2.plot(history.history['loss'])\n",
    "#plt.plot(history.history['val_loss'])\n",
    "ax2.set_title('model loss')\n",
    "ax2.set_ylabel('loss')\n",
    "ax2.set_xlabel('epoch')"
   ]
  },
  {
   "cell_type": "markdown",
   "id": "cc11cedc",
   "metadata": {},
   "source": [
    "![](imagenes/sobresgd1,5.png)"
   ]
  },
  {
   "cell_type": "markdown",
   "id": "0ec6a646",
   "metadata": {},
   "source": [
    "#### RMSprop - 0.001"
   ]
  },
  {
   "cell_type": "code",
   "execution_count": null,
   "id": "6970b38b",
   "metadata": {},
   "outputs": [],
   "source": [
    "optimizer= tf.keras.optimizers.RMSprop(learning_rate=0.001)\n",
    "model.compile(optimizer=optimizer,\n",
    "              loss='sparse_categorical_crossentropy',\n",
    "              metrics=['accuracy'])\n",
    "\n",
    "history = model.fit(x_train, y_train, epochs=100)\n",
    "model.evaluate(x_test,  y_test, verbose=2)"
   ]
  },
  {
   "cell_type": "markdown",
   "id": "57cb41b1",
   "metadata": {},
   "source": [
    "![](imagenes/Captura25.png)"
   ]
  },
  {
   "cell_type": "code",
   "execution_count": null,
   "id": "bc80dbb5",
   "metadata": {},
   "outputs": [],
   "source": [
    "fig, (ax1, ax2) = plt.subplots(1, 2, figsize=(10, 3))\n",
    "\n",
    "#ax1.subplot(1, 2, 1)\n",
    "ax1.plot(history.history['accuracy'])\n",
    "#plt.plot(history.history['val_accuracy'])\n",
    "ax1.set_title('model accuracy')\n",
    "ax1.set_ylabel('accuracy')\n",
    "ax1.set_xlabel('epoch')\n",
    "#ax1.show()\n",
    "\n",
    "#ax2.subplot(1, 2, 2)\n",
    "ax2.plot(history.history['loss'])\n",
    "#plt.plot(history.history['val_loss'])\n",
    "ax2.set_title('model loss')\n",
    "ax2.set_ylabel('loss')\n",
    "ax2.set_xlabel('epoch')"
   ]
  },
  {
   "cell_type": "markdown",
   "id": "74ec11bc",
   "metadata": {},
   "source": [
    "![](imagenes/sobrersm0,001.png)"
   ]
  },
  {
   "cell_type": "markdown",
   "id": "15c1863e",
   "metadata": {},
   "source": [
    "#### RMSprop - 0.1"
   ]
  },
  {
   "cell_type": "code",
   "execution_count": null,
   "id": "a3c7ffe1",
   "metadata": {},
   "outputs": [],
   "source": [
    "optimizer= tf.keras.optimizers.RMSprop(learning_rate=0.1)\n",
    "model.compile(optimizer=optimizer,\n",
    "              loss='sparse_categorical_crossentropy',\n",
    "              metrics=['accuracy'])\n",
    "\n",
    "history = model.fit(x_train_, y_train_, epochs=100)\n",
    "model.evaluate(x_test_,  y_test_, verbose=2)"
   ]
  },
  {
   "cell_type": "markdown",
   "id": "befe4084",
   "metadata": {},
   "source": [
    "![](imagenes/Captura26.png)"
   ]
  },
  {
   "cell_type": "code",
   "execution_count": null,
   "id": "bf984b8e",
   "metadata": {},
   "outputs": [],
   "source": [
    "fig, (ax1, ax2) = plt.subplots(1, 2, figsize=(10, 3))\n",
    "\n",
    "#ax1.subplot(1, 2, 1)\n",
    "ax1.plot(history.history['accuracy'])\n",
    "#plt.plot(history.history['val_accuracy'])\n",
    "ax1.set_title('model accuracy')\n",
    "ax1.set_ylabel('accuracy')\n",
    "ax1.set_xlabel('epoch')\n",
    "#ax1.show()\n",
    "\n",
    "#ax2.subplot(1, 2, 2)\n",
    "ax2.plot(history.history['loss'])\n",
    "#plt.plot(history.history['val_loss'])\n",
    "ax2.set_title('model loss')\n",
    "ax2.set_ylabel('loss')\n",
    "ax2.set_xlabel('epoch')"
   ]
  },
  {
   "cell_type": "markdown",
   "id": "73d25be3",
   "metadata": {},
   "source": [
    "![](imagenes/sobrersm0,1.png)"
   ]
  },
  {
   "cell_type": "markdown",
   "id": "c84099b8",
   "metadata": {},
   "source": [
    "#### RMSprop - 0.5"
   ]
  },
  {
   "cell_type": "code",
   "execution_count": null,
   "id": "18db789e",
   "metadata": {},
   "outputs": [],
   "source": [
    "optimizer= tf.keras.optimizers.RMSprop(learning_rate=0.5)\n",
    "model.compile(optimizer=optimizer,\n",
    "              loss='sparse_categorical_crossentropy',\n",
    "              metrics=['accuracy'])\n",
    "\n",
    "history = model.fit(x_train_, y_train_, epochs=100)\n",
    "model.evaluate(x_test_,  y_test_, verbose=2)"
   ]
  },
  {
   "cell_type": "markdown",
   "id": "e3b71e35",
   "metadata": {},
   "source": [
    "![](imagenes/Captura27.png)"
   ]
  },
  {
   "cell_type": "code",
   "execution_count": null,
   "id": "67020b4e",
   "metadata": {},
   "outputs": [],
   "source": [
    "fig, (ax1, ax2) = plt.subplots(1, 2, figsize=(10, 3))\n",
    "\n",
    "#ax1.subplot(1, 2, 1)\n",
    "ax1.plot(history.history['accuracy'])\n",
    "#plt.plot(history.history['val_accuracy'])\n",
    "ax1.set_title('model accuracy')\n",
    "ax1.set_ylabel('accuracy')\n",
    "ax1.set_xlabel('epoch')\n",
    "#ax1.show()\n",
    "\n",
    "#ax2.subplot(1, 2, 2)\n",
    "ax2.plot(history.history['loss'])\n",
    "#plt.plot(history.history['val_loss'])\n",
    "ax2.set_title('model loss')\n",
    "ax2.set_ylabel('loss')\n",
    "ax2.set_xlabel('epoch')"
   ]
  },
  {
   "cell_type": "markdown",
   "id": "be9fbe19",
   "metadata": {},
   "source": [
    "![](imagenes/sobrersm0,5.png)"
   ]
  },
  {
   "cell_type": "markdown",
   "id": "b0bc7c52",
   "metadata": {},
   "source": [
    "#### RMSprop - 0.9"
   ]
  },
  {
   "cell_type": "code",
   "execution_count": null,
   "id": "bc63659b",
   "metadata": {},
   "outputs": [],
   "source": [
    "optimizer= tf.keras.optimizers.RMSprop(learning_rate=0.9)\n",
    "model.compile(optimizer=optimizer,\n",
    "              loss='sparse_categorical_crossentropy',\n",
    "              metrics=['accuracy'])\n",
    "\n",
    "history = model.fit(x_train_, y_train_, epochs=100)\n",
    "model.evaluate(x_test_,  y_test_, verbose=2)"
   ]
  },
  {
   "cell_type": "markdown",
   "id": "d1c7e6ac",
   "metadata": {},
   "source": [
    "![](imagenes/Captura28.png)"
   ]
  },
  {
   "cell_type": "code",
   "execution_count": null,
   "id": "07d4f3b8",
   "metadata": {},
   "outputs": [],
   "source": [
    "fig, (ax1, ax2) = plt.subplots(1, 2, figsize=(10, 3))\n",
    "\n",
    "#ax1.subplot(1, 2, 1)\n",
    "ax1.plot(history.history['accuracy'])\n",
    "#plt.plot(history.history['val_accuracy'])\n",
    "ax1.set_title('model accuracy')\n",
    "ax1.set_ylabel('accuracy')\n",
    "ax1.set_xlabel('epoch')\n",
    "#ax1.show()\n",
    "\n",
    "#ax2.subplot(1, 2, 2)\n",
    "ax2.plot(history.history['loss'])\n",
    "#plt.plot(history.history['val_loss'])\n",
    "ax2.set_title('model loss')\n",
    "ax2.set_ylabel('loss')\n",
    "ax2.set_xlabel('epoch')"
   ]
  },
  {
   "cell_type": "markdown",
   "id": "848769aa",
   "metadata": {},
   "source": [
    "![](imagenes/sobrersm0,9.png)"
   ]
  },
  {
   "cell_type": "markdown",
   "id": "4cda4e48",
   "metadata": {},
   "source": [
    "#### RMSprop - 1.5"
   ]
  },
  {
   "cell_type": "code",
   "execution_count": null,
   "id": "47b8adeb",
   "metadata": {},
   "outputs": [],
   "source": [
    "optimizer= tf.keras.optimizers.RMSprop(learning_rate=1.5)\n",
    "model.compile(optimizer=optimizer,\n",
    "              loss='sparse_categorical_crossentropy',\n",
    "              metrics=['accuracy'])\n",
    "\n",
    "history = model.fit(x_train_, y_train_, epochs=100)\n",
    "model.evaluate(x_test_,  y_test_, verbose=2)"
   ]
  },
  {
   "cell_type": "markdown",
   "id": "b3c78cc2",
   "metadata": {},
   "source": [
    "![](imagenes/Captura29.png)"
   ]
  },
  {
   "cell_type": "code",
   "execution_count": null,
   "id": "ac292439",
   "metadata": {},
   "outputs": [],
   "source": [
    "fig, (ax1, ax2) = plt.subplots(1, 2, figsize=(10, 3))\n",
    "\n",
    "#ax1.subplot(1, 2, 1)\n",
    "ax1.plot(history.history['accuracy'])\n",
    "#plt.plot(history.history['val_accuracy'])\n",
    "ax1.set_title('model accuracy')\n",
    "ax1.set_ylabel('accuracy')\n",
    "ax1.set_xlabel('epoch')\n",
    "#ax1.show()\n",
    "\n",
    "#ax2.subplot(1, 2, 2)\n",
    "ax2.plot(history.history['loss'])\n",
    "#plt.plot(history.history['val_loss'])\n",
    "ax2.set_title('model loss')\n",
    "ax2.set_ylabel('loss')\n",
    "ax2.set_xlabel('epoch')"
   ]
  },
  {
   "cell_type": "markdown",
   "id": "286af637",
   "metadata": {},
   "source": [
    "![](imagenes/sobrersm1,5.png)"
   ]
  },
  {
   "cell_type": "markdown",
   "id": "5d5d9fcd",
   "metadata": {},
   "source": [
    "#### Adagram - 0.001"
   ]
  },
  {
   "cell_type": "code",
   "execution_count": null,
   "id": "023155fa",
   "metadata": {},
   "outputs": [],
   "source": [
    "optimizer= tf.keras.optimizers.Adagrad(learning_rate=0.001)\n",
    "model.compile(optimizer=optimizer,\n",
    "              loss='sparse_categorical_crossentropy',\n",
    "              metrics=['accuracy'])\n",
    "#history = model.fit(X, Y, validation_split=0.33, epochs=150, batch_size=10, verbose=0)\n",
    "history = model.fit(x_train_, y_train_, epochs=100)\n",
    "model.evaluate(x_test_,  y_test_, verbose=2)"
   ]
  },
  {
   "cell_type": "markdown",
   "id": "56600e9f",
   "metadata": {},
   "source": [
    "![](imagenes/Captura30.png)"
   ]
  },
  {
   "cell_type": "code",
   "execution_count": null,
   "id": "78dab1ac",
   "metadata": {},
   "outputs": [],
   "source": [
    "fig, (ax1, ax2) = plt.subplots(1, 2, figsize=(10, 3))\n",
    "\n",
    "#ax1.subplot(1, 2, 1)\n",
    "ax1.plot(history.history['accuracy'])\n",
    "#plt.plot(history.history['val_accuracy'])\n",
    "ax1.set_title('model accuracy')\n",
    "ax1.set_ylabel('accuracy')\n",
    "ax1.set_xlabel('epoch')\n",
    "#ax1.show()\n",
    "\n",
    "#ax2.subplot(1, 2, 2)\n",
    "ax2.plot(history.history['loss'])\n",
    "#plt.plot(history.history['val_loss'])\n",
    "ax2.set_title('model loss')\n",
    "ax2.set_ylabel('loss')\n",
    "ax2.set_xlabel('epoch')"
   ]
  },
  {
   "cell_type": "markdown",
   "id": "0dbb6da1",
   "metadata": {},
   "source": [
    "![](imagenes/sobreadagram0,001.png)"
   ]
  },
  {
   "cell_type": "markdown",
   "id": "cc1148b9",
   "metadata": {},
   "source": [
    "#### Adagram - 0.1"
   ]
  },
  {
   "cell_type": "code",
   "execution_count": null,
   "id": "980c0d2f",
   "metadata": {},
   "outputs": [],
   "source": [
    "optimizer= tf.keras.optimizers.Adagrad(learning_rate=0.1)\n",
    "model.compile(optimizer=optimizer,\n",
    "              loss='sparse_categorical_crossentropy',\n",
    "              metrics=['accuracy'])\n",
    "#history = model.fit(X, Y, validation_split=0.33, epochs=150, batch_size=10, verbose=0)\n",
    "history = model.fit(x_train_, y_train_, epochs=100)\n",
    "model.evaluate(x_test_,  y_test_, verbose=2)"
   ]
  },
  {
   "cell_type": "markdown",
   "id": "6f203cf8",
   "metadata": {},
   "source": [
    "![](imagenes/Captura31.png)"
   ]
  },
  {
   "cell_type": "code",
   "execution_count": null,
   "id": "93022736",
   "metadata": {},
   "outputs": [],
   "source": [
    "fig, (ax1, ax2) = plt.subplots(1, 2, figsize=(10, 3))\n",
    "\n",
    "#ax1.subplot(1, 2, 1)\n",
    "ax1.plot(history.history['accuracy'])\n",
    "#plt.plot(history.history['val_accuracy'])\n",
    "ax1.set_title('model accuracy')\n",
    "ax1.set_ylabel('accuracy')\n",
    "ax1.set_xlabel('epoch')\n",
    "#ax1.show()\n",
    "\n",
    "#ax2.subplot(1, 2, 2)\n",
    "ax2.plot(history.history['loss'])\n",
    "#plt.plot(history.history['val_loss'])\n",
    "ax2.set_title('model loss')\n",
    "ax2.set_ylabel('loss')\n",
    "ax2.set_xlabel('epoch')"
   ]
  },
  {
   "cell_type": "markdown",
   "id": "24ad4d70",
   "metadata": {},
   "source": [
    "![](imagenes/sobreadagram0,1.png)"
   ]
  },
  {
   "cell_type": "markdown",
   "id": "6419cca4",
   "metadata": {},
   "source": [
    "#### Adagram - 0.5"
   ]
  },
  {
   "cell_type": "code",
   "execution_count": null,
   "id": "dd7ef7a9",
   "metadata": {},
   "outputs": [],
   "source": [
    "optimizer= tf.keras.optimizers.Adagrad(learning_rate=0.5)\n",
    "model.compile(optimizer=optimizer,\n",
    "              loss='sparse_categorical_crossentropy',\n",
    "              metrics=['accuracy'])\n",
    "#history = model.fit(X, Y, validation_split=0.33, epochs=150, batch_size=10, verbose=0)\n",
    "history = model.fit(x_train_, y_train_, epochs=100)\n",
    "model.evaluate(x_test_,  y_test_, verbose=2)"
   ]
  },
  {
   "cell_type": "markdown",
   "id": "1404a29b",
   "metadata": {},
   "source": [
    "![](imagenes/Captura32.png)"
   ]
  },
  {
   "cell_type": "code",
   "execution_count": null,
   "id": "ed28053a",
   "metadata": {},
   "outputs": [],
   "source": [
    "fig, (ax1, ax2) = plt.subplots(1, 2, figsize=(10, 3))\n",
    "\n",
    "#ax1.subplot(1, 2, 1)\n",
    "ax1.plot(history.history['accuracy'])\n",
    "#plt.plot(history.history['val_accuracy'])\n",
    "ax1.set_title('model accuracy')\n",
    "ax1.set_ylabel('accuracy')\n",
    "ax1.set_xlabel('epoch')\n",
    "#ax1.show()\n",
    "\n",
    "#ax2.subplot(1, 2, 2)\n",
    "ax2.plot(history.history['loss'])\n",
    "#plt.plot(history.history['val_loss'])\n",
    "ax2.set_title('model loss')\n",
    "ax2.set_ylabel('loss')\n",
    "ax2.set_xlabel('epoch')"
   ]
  },
  {
   "cell_type": "markdown",
   "id": "e122c3e0",
   "metadata": {},
   "source": [
    "![](imagenes/sobreadagram0,5.png)"
   ]
  },
  {
   "cell_type": "markdown",
   "id": "1aec7b72",
   "metadata": {},
   "source": [
    "#### Adagram - 0.9\n"
   ]
  },
  {
   "cell_type": "code",
   "execution_count": null,
   "id": "29b92226",
   "metadata": {},
   "outputs": [],
   "source": [
    "optimizer= tf.keras.optimizers.Adagrad(learning_rate=0.9)\n",
    "model.compile(optimizer=optimizer,\n",
    "              loss='sparse_categorical_crossentropy',\n",
    "              metrics=['accuracy'])\n",
    "#history = model.fit(X, Y, validation_split=0.33, epochs=150, batch_size=10, verbose=0)\n",
    "history = model.fit(x_train_, y_train_, epochs=100)\n",
    "model.evaluate(x_test_,  y_test_, verbose=2)"
   ]
  },
  {
   "cell_type": "markdown",
   "id": "984bc111",
   "metadata": {},
   "source": [
    "![](imagenes/Captura33.png)"
   ]
  },
  {
   "cell_type": "code",
   "execution_count": null,
   "id": "616b089c",
   "metadata": {},
   "outputs": [],
   "source": [
    "fig, (ax1, ax2) = plt.subplots(1, 2, figsize=(10, 3))\n",
    "\n",
    "#ax1.subplot(1, 2, 1)\n",
    "ax1.plot(history.history['accuracy'])\n",
    "#plt.plot(history.history['val_accuracy'])\n",
    "ax1.set_title('model accuracy')\n",
    "ax1.set_ylabel('accuracy')\n",
    "ax1.set_xlabel('epoch')\n",
    "#ax1.show()\n",
    "\n",
    "#ax2.subplot(1, 2, 2)\n",
    "ax2.plot(history.history['loss'])\n",
    "#plt.plot(history.history['val_loss'])\n",
    "ax2.set_title('model loss')\n",
    "ax2.set_ylabel('loss')\n",
    "ax2.set_xlabel('epoch')"
   ]
  },
  {
   "cell_type": "markdown",
   "id": "85ecfb67",
   "metadata": {},
   "source": [
    "![](imagenes/sobreadagram0,9.png)"
   ]
  },
  {
   "cell_type": "markdown",
   "id": "b425fd9a",
   "metadata": {},
   "source": [
    "#### Adagram - 1.5\n"
   ]
  },
  {
   "cell_type": "code",
   "execution_count": null,
   "id": "fab59972",
   "metadata": {},
   "outputs": [],
   "source": [
    "optimizer= tf.keras.optimizers.Adagrad(learning_rate=1.5)\n",
    "model.compile(optimizer=optimizer,\n",
    "              loss='sparse_categorical_crossentropy',\n",
    "              metrics=['accuracy'])\n",
    "#history = model.fit(X, Y, validation_split=0.33, epochs=150, batch_size=10, verbose=0)\n",
    "history = model.fit(x_train_, y_train_, epochs=100)\n",
    "model.evaluate(x_test_,  y_test_, verbose=2)"
   ]
  },
  {
   "cell_type": "markdown",
   "id": "a37d175a",
   "metadata": {},
   "source": [
    "![](imagenes/Captura34.png)"
   ]
  },
  {
   "cell_type": "code",
   "execution_count": null,
   "id": "1d09d9f0",
   "metadata": {},
   "outputs": [],
   "source": [
    "fig, (ax1, ax2) = plt.subplots(1, 2, figsize=(10, 3))\n",
    "\n",
    "#ax1.subplot(1, 2, 1)\n",
    "ax1.plot(history.history['accuracy'])\n",
    "#plt.plot(history.history['val_accuracy'])\n",
    "ax1.set_title('model accuracy')\n",
    "ax1.set_ylabel('accuracy')\n",
    "ax1.set_xlabel('epoch')\n",
    "#ax1.show()\n",
    "\n",
    "#ax2.subplot(1, 2, 2)\n",
    "ax2.plot(history.history['loss'])\n",
    "#plt.plot(history.history['val_loss'])\n",
    "ax2.set_title('model loss')\n",
    "ax2.set_ylabel('loss')\n",
    "ax2.set_xlabel('epoch')"
   ]
  },
  {
   "cell_type": "markdown",
   "id": "ce52f3b0",
   "metadata": {},
   "source": [
    "![](imagenes/sobreadagram1,5.png)"
   ]
  },
  {
   "cell_type": "markdown",
   "id": "87d05a19",
   "metadata": {},
   "source": [
    "#### AdDelta - 0.001"
   ]
  },
  {
   "cell_type": "code",
   "execution_count": null,
   "id": "4c233424",
   "metadata": {},
   "outputs": [],
   "source": [
    "optimizer= tf.keras.optimizers.Adadelta(learning_rate=0.001)\n",
    "model.compile(optimizer=optimizer,\n",
    "              loss='sparse_categorical_crossentropy',\n",
    "              metrics=['accuracy'])\n",
    "#history = model.fit(X, Y, validation_split=0.33, epochs=150, batch_size=10, verbose=0)\n",
    "history = model.fit(x_train_, y_train_, epochs=100)\n",
    "model.evaluate(x_test_,  y_test_, verbose=2)"
   ]
  },
  {
   "cell_type": "markdown",
   "id": "8009de47",
   "metadata": {},
   "source": [
    "![](imagenes/Captura35.png)"
   ]
  },
  {
   "cell_type": "code",
   "execution_count": null,
   "id": "bdebe6c1",
   "metadata": {},
   "outputs": [],
   "source": [
    "fig, (ax1, ax2) = plt.subplots(1, 2, figsize=(10, 3))\n",
    "\n",
    "#ax1.subplot(1, 2, 1)\n",
    "ax1.plot(history.history['accuracy'])\n",
    "#plt.plot(history.history['val_accuracy'])\n",
    "ax1.set_title('model accuracy')\n",
    "ax1.set_ylabel('accuracy')\n",
    "ax1.set_xlabel('epoch')\n",
    "#ax1.show()\n",
    "\n",
    "#ax2.subplot(1, 2, 2)\n",
    "ax2.plot(history.history['loss'])\n",
    "#plt.plot(history.history['val_loss'])\n",
    "ax2.set_title('model loss')\n",
    "ax2.set_ylabel('loss')\n",
    "ax2.set_xlabel('epoch')"
   ]
  },
  {
   "cell_type": "markdown",
   "id": "a0bbb285",
   "metadata": {},
   "source": [
    "![](imagenes/sobreadadelta0,001.png)"
   ]
  },
  {
   "cell_type": "markdown",
   "id": "42c1ba6a",
   "metadata": {},
   "source": [
    "#### AdDelta - 0.1"
   ]
  },
  {
   "cell_type": "code",
   "execution_count": null,
   "id": "cb4b9c9e",
   "metadata": {},
   "outputs": [],
   "source": [
    "optimizer= tf.keras.optimizers.Adadelta(learning_rate=0.1)\n",
    "model.compile(optimizer=optimizer,\n",
    "              loss='sparse_categorical_crossentropy',\n",
    "              metrics=['accuracy'])\n",
    "#history = model.fit(X, Y, validation_split=0.33, epochs=150, batch_size=10, verbose=0)\n",
    "history = model.fit(x_train_, y_train_, epochs=100)\n",
    "model.evaluate(x_test_,  y_test_, verbose=2)"
   ]
  },
  {
   "cell_type": "markdown",
   "id": "f62cf202",
   "metadata": {},
   "source": [
    "![](imagenes/Captura36.png)"
   ]
  },
  {
   "cell_type": "code",
   "execution_count": null,
   "id": "5342e026",
   "metadata": {},
   "outputs": [],
   "source": [
    "fig, (ax1, ax2) = plt.subplots(1, 2, figsize=(10, 3))\n",
    "\n",
    "#ax1.subplot(1, 2, 1)\n",
    "ax1.plot(history.history['accuracy'])\n",
    "#plt.plot(history.history['val_accuracy'])\n",
    "ax1.set_title('model accuracy')\n",
    "ax1.set_ylabel('accuracy')\n",
    "ax1.set_xlabel('epoch')\n",
    "#ax1.show()\n",
    "\n",
    "#ax2.subplot(1, 2, 2)\n",
    "ax2.plot(history.history['loss'])\n",
    "#plt.plot(history.history['val_loss'])\n",
    "ax2.set_title('model loss')\n",
    "ax2.set_ylabel('loss')\n",
    "ax2.set_xlabel('epoch')"
   ]
  },
  {
   "cell_type": "markdown",
   "id": "53b9e774",
   "metadata": {},
   "source": [
    "![](imagenes/sobreadadelta0,1.png)"
   ]
  },
  {
   "cell_type": "markdown",
   "id": "9d504c39",
   "metadata": {},
   "source": [
    "#### AdDelta - 0.5"
   ]
  },
  {
   "cell_type": "code",
   "execution_count": null,
   "id": "d2e67de2",
   "metadata": {},
   "outputs": [],
   "source": [
    "optimizer= tf.keras.optimizers.Adadelta(learning_rate=0.5)\n",
    "model.compile(optimizer=optimizer,\n",
    "              loss='sparse_categorical_crossentropy',\n",
    "              metrics=['accuracy'])\n",
    "#history = model.fit(X, Y, validation_split=0.33, epochs=150, batch_size=10, verbose=0)\n",
    "history = model.fit(x_train_, y_train_, epochs=100)\n",
    "model.evaluate(x_test_,  y_test_, verbose=2)"
   ]
  },
  {
   "cell_type": "markdown",
   "id": "7fe2d290",
   "metadata": {},
   "source": [
    "![](imagenes/Captura37.png)"
   ]
  },
  {
   "cell_type": "code",
   "execution_count": null,
   "id": "cb940c3a",
   "metadata": {},
   "outputs": [],
   "source": [
    "fig, (ax1, ax2) = plt.subplots(1, 2, figsize=(10, 3))\n",
    "\n",
    "#ax1.subplot(1, 2, 1)\n",
    "ax1.plot(history.history['accuracy'])\n",
    "#plt.plot(history.history['val_accuracy'])\n",
    "ax1.set_title('model accuracy')\n",
    "ax1.set_ylabel('accuracy')\n",
    "ax1.set_xlabel('epoch')\n",
    "#ax1.show()\n",
    "\n",
    "#ax2.subplot(1, 2, 2)\n",
    "ax2.plot(history.history['loss'])\n",
    "#plt.plot(history.history['val_loss'])\n",
    "ax2.set_title('model loss')\n",
    "ax2.set_ylabel('loss')\n",
    "ax2.set_xlabel('epoch')"
   ]
  },
  {
   "cell_type": "markdown",
   "id": "28ffca52",
   "metadata": {},
   "source": [
    "![](imagenes/sobreadadelta0,5.png)"
   ]
  },
  {
   "cell_type": "markdown",
   "id": "8199458a",
   "metadata": {},
   "source": [
    "#### AdDelta - 0.9"
   ]
  },
  {
   "cell_type": "code",
   "execution_count": null,
   "id": "fd36d446",
   "metadata": {},
   "outputs": [],
   "source": [
    "optimizer= tf.keras.optimizers.Adadelta(learning_rate=0.9)\n",
    "model.compile(optimizer=optimizer,\n",
    "              loss='sparse_categorical_crossentropy',\n",
    "              metrics=['accuracy'])\n",
    "#history = model.fit(X, Y, validation_split=0.33, epochs=150, batch_size=10, verbose=0)\n",
    "history = model.fit(x_train_, y_train_, epochs=100)\n",
    "model.evaluate(x_test_,  y_test_, verbose=2)"
   ]
  },
  {
   "cell_type": "markdown",
   "id": "5bf7030f",
   "metadata": {},
   "source": [
    "![](imagenes/Captura38.png)"
   ]
  },
  {
   "cell_type": "code",
   "execution_count": null,
   "id": "40f06840",
   "metadata": {},
   "outputs": [],
   "source": [
    "fig, (ax1, ax2) = plt.subplots(1, 2, figsize=(10, 3))\n",
    "\n",
    "#ax1.subplot(1, 2, 1)\n",
    "ax1.plot(history.history['accuracy'])\n",
    "#plt.plot(history.history['val_accuracy'])\n",
    "ax1.set_title('model accuracy')\n",
    "ax1.set_ylabel('accuracy')\n",
    "ax1.set_xlabel('epoch')\n",
    "#ax1.show()\n",
    "\n",
    "#ax2.subplot(1, 2, 2)\n",
    "ax2.plot(history.history['loss'])\n",
    "#plt.plot(history.history['val_loss'])\n",
    "ax2.set_title('model loss')\n",
    "ax2.set_ylabel('loss')\n",
    "ax2.set_xlabel('epoch')"
   ]
  },
  {
   "cell_type": "markdown",
   "id": "511bf939",
   "metadata": {},
   "source": [
    "![](imagenes/sobreadadelta0,9.png)"
   ]
  },
  {
   "cell_type": "markdown",
   "id": "b22f7d85",
   "metadata": {},
   "source": [
    "#### AdDelta - 1.5"
   ]
  },
  {
   "cell_type": "code",
   "execution_count": null,
   "id": "a82a316f",
   "metadata": {},
   "outputs": [],
   "source": [
    "optimizer= tf.keras.optimizers.Adadelta(learning_rate=1.5)\n",
    "model.compile(optimizer=optimizer,\n",
    "              loss='sparse_categorical_crossentropy',\n",
    "              metrics=['accuracy'])\n",
    "#history = model.fit(X, Y, validation_split=0.33, epochs=150, batch_size=10, verbose=0)\n",
    "history = model.fit(x_train_, y_train_, epochs=100)\n",
    "model.evaluate(x_test_,  y_test_, verbose=2)"
   ]
  },
  {
   "cell_type": "markdown",
   "id": "ed910bc8",
   "metadata": {},
   "source": [
    "![](imagenes/Captura39.png)"
   ]
  },
  {
   "cell_type": "code",
   "execution_count": null,
   "id": "5214dc23",
   "metadata": {},
   "outputs": [],
   "source": [
    "fig, (ax1, ax2) = plt.subplots(1, 2, figsize=(10, 3))\n",
    "\n",
    "#ax1.subplot(1, 2, 1)\n",
    "ax1.plot(history.history['accuracy'])\n",
    "#plt.plot(history.history['val_accuracy'])\n",
    "ax1.set_title('model accuracy')\n",
    "ax1.set_ylabel('accuracy')\n",
    "ax1.set_xlabel('epoch')\n",
    "#ax1.show()\n",
    "\n",
    "#ax2.subplot(1, 2, 2)\n",
    "ax2.plot(history.history['loss'])\n",
    "#plt.plot(history.history['val_loss'])\n",
    "ax2.set_title('model loss')\n",
    "ax2.set_ylabel('loss')\n",
    "ax2.set_xlabel('epoch')"
   ]
  },
  {
   "cell_type": "markdown",
   "id": "805f0b38",
   "metadata": {},
   "source": [
    "![](imagenes/sobreadadelta1,5.png)"
   ]
  },
  {
   "cell_type": "markdown",
   "id": "f1b83139",
   "metadata": {},
   "source": [
    "### Análisis"
   ]
  },
  {
   "cell_type": "markdown",
   "id": "a80f506a",
   "metadata": {},
   "source": [
    "- ¿Cuál fue el método de optimización menos afectado por la reducción del conjunto de datos?\n",
    "    \n",
    "- ¿Cuál fue la tasa de aprendizaje menos afectada por la reducción del conjunto de datos?\n",
    "    \n",
    "- ¿Cuál fue el método que más rápido convergió?"
   ]
  },
  {
   "cell_type": "code",
   "execution_count": 199,
   "id": "47479ca1",
   "metadata": {},
   "outputs": [],
   "source": [
    "df_sgd = pd.read_excel('comparacion.xlsx',sheet_name='Hoja2',index_col='Tasa aprendizaje')\n",
    "df_rsm = pd.read_excel('comparacion.xlsx',sheet_name='Hoja3',index_col='Tasa aprendizaje')\n",
    "df_adagram = pd.read_excel('comparacion.xlsx',sheet_name='Hoja4',index_col='Tasa aprendizaje')\n",
    "df_adelta = pd.read_excel('comparacion.xlsx',sheet_name='Hoja5',index_col='Tasa aprendizaje')\n",
    "\n",
    "df = pd.read_excel('comparacion.xlsx',sheet_name='Hoja6')"
   ]
  },
  {
   "cell_type": "markdown",
   "id": "fe8d5725",
   "metadata": {},
   "source": [
    "#### SGD"
   ]
  },
  {
   "cell_type": "code",
   "execution_count": 201,
   "id": "319f55b9",
   "metadata": {},
   "outputs": [
    {
     "data": {
      "text/html": [
       "<div>\n",
       "<style scoped>\n",
       "    .dataframe tbody tr th:only-of-type {\n",
       "        vertical-align: middle;\n",
       "    }\n",
       "\n",
       "    .dataframe tbody tr th {\n",
       "        vertical-align: top;\n",
       "    }\n",
       "\n",
       "    .dataframe thead th {\n",
       "        text-align: right;\n",
       "    }\n",
       "</style>\n",
       "<table border=\"1\" class=\"dataframe\">\n",
       "  <thead>\n",
       "    <tr style=\"text-align: right;\">\n",
       "      <th></th>\n",
       "      <th>accuraccy 1</th>\n",
       "      <th>accuraccy 2</th>\n",
       "    </tr>\n",
       "    <tr>\n",
       "      <th>Tasa aprendizaje</th>\n",
       "      <th></th>\n",
       "      <th></th>\n",
       "    </tr>\n",
       "  </thead>\n",
       "  <tbody>\n",
       "    <tr>\n",
       "      <th>0.001</th>\n",
       "      <td>0.981</td>\n",
       "      <td>0.370</td>\n",
       "    </tr>\n",
       "    <tr>\n",
       "      <th>0.100</th>\n",
       "      <td>0.981</td>\n",
       "      <td>0.370</td>\n",
       "    </tr>\n",
       "    <tr>\n",
       "      <th>0.500</th>\n",
       "      <td>0.975</td>\n",
       "      <td>0.370</td>\n",
       "    </tr>\n",
       "    <tr>\n",
       "      <th>0.900</th>\n",
       "      <td>0.968</td>\n",
       "      <td>0.370</td>\n",
       "    </tr>\n",
       "    <tr>\n",
       "      <th>1.500</th>\n",
       "      <td>0.959</td>\n",
       "      <td>0.368</td>\n",
       "    </tr>\n",
       "  </tbody>\n",
       "</table>\n",
       "</div>"
      ],
      "text/plain": [
       "                  accuraccy 1  accuraccy 2\n",
       "Tasa aprendizaje                          \n",
       "0.001                   0.981        0.370\n",
       "0.100                   0.981        0.370\n",
       "0.500                   0.975        0.370\n",
       "0.900                   0.968        0.370\n",
       "1.500                   0.959        0.368"
      ]
     },
     "execution_count": 201,
     "metadata": {},
     "output_type": "execute_result"
    }
   ],
   "source": [
    "df_sgd"
   ]
  },
  {
   "cell_type": "markdown",
   "id": "7e04517d",
   "metadata": {},
   "source": [
    "#### RSMprop"
   ]
  },
  {
   "cell_type": "code",
   "execution_count": 202,
   "id": "1e9d3d54",
   "metadata": {},
   "outputs": [
    {
     "data": {
      "text/html": [
       "<div>\n",
       "<style scoped>\n",
       "    .dataframe tbody tr th:only-of-type {\n",
       "        vertical-align: middle;\n",
       "    }\n",
       "\n",
       "    .dataframe tbody tr th {\n",
       "        vertical-align: top;\n",
       "    }\n",
       "\n",
       "    .dataframe thead th {\n",
       "        text-align: right;\n",
       "    }\n",
       "</style>\n",
       "<table border=\"1\" class=\"dataframe\">\n",
       "  <thead>\n",
       "    <tr style=\"text-align: right;\">\n",
       "      <th></th>\n",
       "      <th>accuraccy 1</th>\n",
       "      <th>accuraccy 2</th>\n",
       "    </tr>\n",
       "    <tr>\n",
       "      <th>Tasa aprendizaje</th>\n",
       "      <th></th>\n",
       "      <th></th>\n",
       "    </tr>\n",
       "  </thead>\n",
       "  <tbody>\n",
       "    <tr>\n",
       "      <th>0.001</th>\n",
       "      <td>0.967</td>\n",
       "      <td>0.710</td>\n",
       "    </tr>\n",
       "    <tr>\n",
       "      <th>0.100</th>\n",
       "      <td>0.947</td>\n",
       "      <td>0.627</td>\n",
       "    </tr>\n",
       "    <tr>\n",
       "      <th>0.500</th>\n",
       "      <td>0.809</td>\n",
       "      <td>0.544</td>\n",
       "    </tr>\n",
       "    <tr>\n",
       "      <th>0.900</th>\n",
       "      <td>0.786</td>\n",
       "      <td>0.505</td>\n",
       "    </tr>\n",
       "    <tr>\n",
       "      <th>1.500</th>\n",
       "      <td>0.725</td>\n",
       "      <td>0.542</td>\n",
       "    </tr>\n",
       "  </tbody>\n",
       "</table>\n",
       "</div>"
      ],
      "text/plain": [
       "                  accuraccy 1  accuraccy 2\n",
       "Tasa aprendizaje                          \n",
       "0.001                   0.967        0.710\n",
       "0.100                   0.947        0.627\n",
       "0.500                   0.809        0.544\n",
       "0.900                   0.786        0.505\n",
       "1.500                   0.725        0.542"
      ]
     },
     "execution_count": 202,
     "metadata": {},
     "output_type": "execute_result"
    }
   ],
   "source": [
    "df_rsm"
   ]
  },
  {
   "cell_type": "markdown",
   "id": "3477e6b3",
   "metadata": {},
   "source": [
    "#### Adagram"
   ]
  },
  {
   "cell_type": "code",
   "execution_count": 203,
   "id": "dcf5b04e",
   "metadata": {},
   "outputs": [
    {
     "data": {
      "text/html": [
       "<div>\n",
       "<style scoped>\n",
       "    .dataframe tbody tr th:only-of-type {\n",
       "        vertical-align: middle;\n",
       "    }\n",
       "\n",
       "    .dataframe tbody tr th {\n",
       "        vertical-align: top;\n",
       "    }\n",
       "\n",
       "    .dataframe thead th {\n",
       "        text-align: right;\n",
       "    }\n",
       "</style>\n",
       "<table border=\"1\" class=\"dataframe\">\n",
       "  <thead>\n",
       "    <tr style=\"text-align: right;\">\n",
       "      <th></th>\n",
       "      <th>accuraccy 1</th>\n",
       "      <th>accuraccy 2</th>\n",
       "    </tr>\n",
       "    <tr>\n",
       "      <th>Tasa aprendizaje</th>\n",
       "      <th></th>\n",
       "      <th></th>\n",
       "    </tr>\n",
       "  </thead>\n",
       "  <tbody>\n",
       "    <tr>\n",
       "      <th>0.001</th>\n",
       "      <td>0.724</td>\n",
       "      <td>0.542</td>\n",
       "    </tr>\n",
       "    <tr>\n",
       "      <th>0.100</th>\n",
       "      <td>0.719</td>\n",
       "      <td>0.542</td>\n",
       "    </tr>\n",
       "    <tr>\n",
       "      <th>0.500</th>\n",
       "      <td>0.724</td>\n",
       "      <td>0.542</td>\n",
       "    </tr>\n",
       "    <tr>\n",
       "      <th>0.900</th>\n",
       "      <td>0.728</td>\n",
       "      <td>0.542</td>\n",
       "    </tr>\n",
       "    <tr>\n",
       "      <th>1.500</th>\n",
       "      <td>0.725</td>\n",
       "      <td>0.586</td>\n",
       "    </tr>\n",
       "  </tbody>\n",
       "</table>\n",
       "</div>"
      ],
      "text/plain": [
       "                  accuraccy 1  accuraccy 2\n",
       "Tasa aprendizaje                          \n",
       "0.001                   0.724        0.542\n",
       "0.100                   0.719        0.542\n",
       "0.500                   0.724        0.542\n",
       "0.900                   0.728        0.542\n",
       "1.500                   0.725        0.586"
      ]
     },
     "execution_count": 203,
     "metadata": {},
     "output_type": "execute_result"
    }
   ],
   "source": [
    "df_adagram"
   ]
  },
  {
   "cell_type": "markdown",
   "id": "11d7b5b2",
   "metadata": {},
   "source": [
    "#### AdDelta"
   ]
  },
  {
   "cell_type": "code",
   "execution_count": 204,
   "id": "559113a8",
   "metadata": {},
   "outputs": [
    {
     "data": {
      "text/html": [
       "<div>\n",
       "<style scoped>\n",
       "    .dataframe tbody tr th:only-of-type {\n",
       "        vertical-align: middle;\n",
       "    }\n",
       "\n",
       "    .dataframe tbody tr th {\n",
       "        vertical-align: top;\n",
       "    }\n",
       "\n",
       "    .dataframe thead th {\n",
       "        text-align: right;\n",
       "    }\n",
       "</style>\n",
       "<table border=\"1\" class=\"dataframe\">\n",
       "  <thead>\n",
       "    <tr style=\"text-align: right;\">\n",
       "      <th></th>\n",
       "      <th>accuraccy 1</th>\n",
       "      <th>accuraccy 2</th>\n",
       "    </tr>\n",
       "    <tr>\n",
       "      <th>Tasa aprendizaje</th>\n",
       "      <th></th>\n",
       "      <th></th>\n",
       "    </tr>\n",
       "  </thead>\n",
       "  <tbody>\n",
       "    <tr>\n",
       "      <th>0.001</th>\n",
       "      <td>0.725</td>\n",
       "      <td>0.588</td>\n",
       "    </tr>\n",
       "    <tr>\n",
       "      <th>0.100</th>\n",
       "      <td>0.725</td>\n",
       "      <td>0.593</td>\n",
       "    </tr>\n",
       "    <tr>\n",
       "      <th>0.500</th>\n",
       "      <td>0.730</td>\n",
       "      <td>0.598</td>\n",
       "    </tr>\n",
       "    <tr>\n",
       "      <th>0.900</th>\n",
       "      <td>0.730</td>\n",
       "      <td>0.585</td>\n",
       "    </tr>\n",
       "    <tr>\n",
       "      <th>1.500</th>\n",
       "      <td>0.730</td>\n",
       "      <td>0.560</td>\n",
       "    </tr>\n",
       "  </tbody>\n",
       "</table>\n",
       "</div>"
      ],
      "text/plain": [
       "                  accuraccy 1  accuraccy 2\n",
       "Tasa aprendizaje                          \n",
       "0.001                   0.725        0.588\n",
       "0.100                   0.725        0.593\n",
       "0.500                   0.730        0.598\n",
       "0.900                   0.730        0.585\n",
       "1.500                   0.730        0.560"
      ]
     },
     "execution_count": 204,
     "metadata": {},
     "output_type": "execute_result"
    }
   ],
   "source": [
    "df_adelta"
   ]
  },
  {
   "cell_type": "markdown",
   "id": "01c07743",
   "metadata": {},
   "source": [
    "Se promedió la perdida de precisión de cada método de optimización por las diferentes tasas de parendizaje y el optimizador que más precisión perdió con respecto al primer caso fue SGD pasando de un promedio de 0.97 a 0.36 \n",
    "Para las tasas de aprendizaje se promedio el cambió de precisión para cada optimizador y se encontró que la que más se vio afectada por la reducción de datos fue la tasa de 0.1\n",
    "El optimizador que más rápido converge, como se muestra en este análisis, es el RSMprop"
   ]
  },
  {
   "cell_type": "markdown",
   "id": "905d0866",
   "metadata": {},
   "source": [
    "## Bibliografía"
   ]
  },
  {
   "cell_type": "markdown",
   "id": "09097c58",
   "metadata": {},
   "source": [
    "- https://stats.stackexchange.com/questions/326065/cross-entropy-vs-sparse-cross-entropy-when-to-use-one-over-the-other\n",
    "- https://github.com/keras-team/keras/issues/6444\n",
    "- https://keras.io/api/optimizers/rmsprop/\n",
    "- https://stats.stackexchange.com/questions/326065/cross-entropy-vs-sparse-cross-entropy-when-to-use-one-over-the-other\n",
    "- https://keras.io/api/losses/\n",
    "- https://machinelearningmastery.com/display-deep-learning-model-training-history-in-keras/\n",
    "- https://towardsdatascience.com/neural-network-optimization-algorithms-1a44c282f61d"
   ]
  }
 ],
 "metadata": {
  "kernelspec": {
   "display_name": "Python 3",
   "language": "python",
   "name": "python3"
  },
  "language_info": {
   "codemirror_mode": {
    "name": "ipython",
    "version": 3
   },
   "file_extension": ".py",
   "mimetype": "text/x-python",
   "name": "python",
   "nbconvert_exporter": "python",
   "pygments_lexer": "ipython3",
   "version": "3.8.3"
  }
 },
 "nbformat": 4,
 "nbformat_minor": 5
}
